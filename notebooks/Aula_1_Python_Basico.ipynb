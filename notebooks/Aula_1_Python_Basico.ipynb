{
 "cells": [
  {
   "cell_type": "markdown",
   "id": "3ac0e5fd",
   "metadata": {
    "lang": "pt",
    "slideshow": {
     "slide_type": "slide"
    }
   },
   "source": [
    "Python Básico\n",
    "---\n",
    "#### Baseado em [QuantEcon DataScience - Basics](https://datascience.quantecon.org/python_fundamentals/basics.html) por Chase Coleman, Spencer Lyon, and Jesse Perla\n",
    "\n",
    "#### Traduzido e adaptado por Domingos Napolitano\n",
    "---"
   ]
  },
  {
   "cell_type": "markdown",
   "id": "215ef95a",
   "metadata": {
    "lang": "pt",
    "slideshow": {
     "slide_type": "slide"
    }
   },
   "source": [
    "O que veremos nesta aula\n",
    "---\n",
    "\n",
    "- Conceitos de programação\n",
    "- Entenda a atribuição de variáveis\n",
    "- Saiba o que é uma função e como descobrir o que ela faz\n",
    "- Ser capaz de usar a complementação com tabulação\n",
    "- Números em Python\n",
    "- Entenda como Python representa números\n",
    "- Conheça a distinção entre `int` e `float`\n",
    "- Familiarize-se com vários operadores binários para números\n",
    "- Introdução à biblioteca de matemática `math`"
   ]
  },
  {
   "cell_type": "markdown",
   "id": "c2f4a858",
   "metadata": {
    "lang": "pt",
    "slideshow": {
     "slide_type": "slide"
    }
   },
   "source": [
    "O que veremos nesta aula\n",
    "---\n",
    "- Texto (strings) em Python\n",
    "- Entenda o que é uma string e quando ela é útil\n",
    "- Aprenda alguns dos métodos associados a strings\n",
    "- Combinando strings e saída\n",
    "- Verdadeiro e falso (booleanos) em Python\n",
    "- Entenda o que é um booleano\n",
    "- Familiarize-se com todos os operadores binários que retornam booleanos"
   ]
  },
  {
   "cell_type": "markdown",
   "id": "9d7f45d1",
   "metadata": {
    "lang": "pt",
    "slideshow": {
     "slide_type": "slide"
    }
   },
   "source": [
    "Primeiros passos\n",
    "--\n",
    "Estamos prontos para começar a escrever o código! 🚀\n",
    "\n",
    "Nesta seção, ensinaremos alguns conceitos básicos de programação e onde procurar ajuda ❓."
   ]
  },
  {
   "cell_type": "markdown",
   "id": "83c57655",
   "metadata": {
    "lang": "pt",
    "slideshow": {
     "slide_type": "slide"
    }
   },
   "source": [
    "Atribuição de variável\n",
    "---\n",
    "A primeira coisa que aprenderemos é a ideia de atribuição de variável.\n",
    "\n",
    "A atribuição de variável associa um valor a uma variável.\n",
    "\n",
    "Abaixo, atribuímos o valor \"Olá Mundo\" à variável `x` veja como é simples:\n",
    "```python\n",
    "x = \"Olá Mundo\"\n",
    "```\n",
    "Depois de atribuir um valor a uma variável, o Python se lembrará dessa variável enquanto a sessão atual do Python ainda estiver em execução."
   ]
  },
  {
   "cell_type": "markdown",
   "id": "87e80f57",
   "metadata": {
    "lang": "pt",
    "slideshow": {
     "slide_type": "slide"
    }
   },
   "source": [
    "Observe como escrever `x` no prompt abaixo gera o valor \"Olá Mundo\" 🙋‍♀️ 🙋 🙋‍♂️.\n",
    "```python\n",
    "x = \"Olá Mundo\"\n",
    "print(x)\n",
    "```\n",
    "**Também é útil entender a ordem em que as operações acontecem.**\n",
    "\n",
    "1. Primeiro, o lado direito do sinal de igual é calculado.✅\n",
    "\n",
    "2. Em seguida, esse valor calculado é armazenado como a variável à esquerda do sinal de igual.🛢\n",
    "\n",
    "No entanto, o Python retorna um erro se perguntarmos sobre variáveis que ainda não foram criadas. 🔥"
   ]
  },
  {
   "cell_type": "code",
   "execution_count": 1,
   "id": "710e9661",
   "metadata": {
    "slideshow": {
     "slide_type": "subslide"
    }
   },
   "outputs": [
    {
     "name": "stdout",
     "output_type": "stream",
     "text": [
      "Olá Mundo\n"
     ]
    }
   ],
   "source": [
    "x = \"Olá Mundo\"\n",
    "print(x)"
   ]
  },
  {
   "cell_type": "code",
   "execution_count": 2,
   "id": "d35b819f",
   "metadata": {
    "lang": "en",
    "slideshow": {
     "slide_type": "fragment"
    }
   },
   "outputs": [
    {
     "ename": "NameError",
     "evalue": "name 'y' is not defined",
     "output_type": "error",
     "traceback": [
      "\u001b[1;31m---------------------------------------------------------------------------\u001b[0m",
      "\u001b[1;31mNameError\u001b[0m                                 Traceback (most recent call last)",
      "\u001b[1;32m<ipython-input-2-d9183e048de3>\u001b[0m in \u001b[0;36m<module>\u001b[1;34m\u001b[0m\n\u001b[1;32m----> 1\u001b[1;33m \u001b[0mprint\u001b[0m\u001b[1;33m(\u001b[0m\u001b[0my\u001b[0m\u001b[1;33m)\u001b[0m\u001b[1;33m\u001b[0m\u001b[1;33m\u001b[0m\u001b[0m\n\u001b[0m",
      "\u001b[1;31mNameError\u001b[0m: name 'y' is not defined"
     ]
    }
   ],
   "source": [
    "print(y)"
   ]
  },
  {
   "cell_type": "markdown",
   "id": "68e80d41",
   "metadata": {
    "lang": "pt",
    "slideshow": {
     "slide_type": "slide"
    }
   },
   "source": [
    "👉🏼 Lembre-se de que a variável vincula um nome a algo armazenado na memória.\n",
    "\n",
    "O nome pode até ser vinculado a um valor de um tipo completamente diferente."
   ]
  },
  {
   "cell_type": "code",
   "execution_count": 3,
   "id": "a6964810",
   "metadata": {
    "slideshow": {
     "slide_type": "fragment"
    }
   },
   "outputs": [
    {
     "name": "stdout",
     "output_type": "stream",
     "text": [
      "2\n",
      "algo mais\n"
     ]
    }
   ],
   "source": [
    "x = 2\n",
    "print(x)\n",
    "x = \"algo mais\"\n",
    "print(x)"
   ]
  },
  {
   "cell_type": "markdown",
   "id": "6ef47c29",
   "metadata": {
    "lang": "pt",
    "slideshow": {
     "slide_type": "slide"
    }
   },
   "source": [
    "### Comentários do código 📋\n",
    "Comentários são notas curtas que você deixa para si mesmo e para outras pessoas que leem seu código.\n",
    "\n",
    "Eles devem ser usados para explicar o que o código faz.\n",
    "\n",
    "Um comentário é feito com o #. Python ignora tudo em uma linha que segue um #."
   ]
  },
  {
   "cell_type": "markdown",
   "id": "de1f1924",
   "metadata": {
    "lang": "pt",
    "slideshow": {
     "slide_type": "subslide"
    }
   },
   "source": [
    "Vamos praticar fazendo alguns comentários.\n",
    "```python\n",
    "i = 1 # Atribui o valor 1 à variável i\n",
    "j = 2 # Atribui o valor 2 à variável j\n",
    "\n",
    "# Adicionamos i e j abaixo desta linha\n",
    "i + j\n",
    "```"
   ]
  },
  {
   "cell_type": "code",
   "execution_count": 4,
   "id": "b9b37466",
   "metadata": {
    "slideshow": {
     "slide_type": "subslide"
    }
   },
   "outputs": [
    {
     "data": {
      "text/plain": [
       "3"
      ]
     },
     "execution_count": 4,
     "metadata": {},
     "output_type": "execute_result"
    }
   ],
   "source": [
    "i = 1 # Atribui o valor 1 à variável i\n",
    "j = 2 # Atribui o valor 2 à variável j\n",
    "\n",
    "# Adicionamos i e j abaixo desta linha\n",
    "i + j"
   ]
  },
  {
   "cell_type": "markdown",
   "id": "d84696ca",
   "metadata": {
    "lang": "pt",
    "slideshow": {
     "slide_type": "slide"
    }
   },
   "source": [
    "# Funções\n",
    "Funções são processos que recebem uma entrada (ou entradas) e produzem uma saída.\n",
    "\n",
    "Se tivéssemos uma função chamada `f` que aceitasse dois argumentos `x` e `y`, escreveríamos `f(x, y)` para usar a função.\n",
    "\n",
    "Por exemplo, a função `print` simplesmente imprime o que for dado. Lembre-se da variável que criamos chamada `x`.\n",
    "\n",
    "```python\n",
    "print(x)\n",
    "```"
   ]
  },
  {
   "cell_type": "code",
   "execution_count": 5,
   "id": "f8f4fe8b",
   "metadata": {
    "lang": "en",
    "slideshow": {
     "slide_type": "subslide"
    }
   },
   "outputs": [
    {
     "name": "stdout",
     "output_type": "stream",
     "text": [
      "algo mais\n"
     ]
    }
   ],
   "source": [
    "print(x)"
   ]
  },
  {
   "cell_type": "markdown",
   "id": "e9512fcb",
   "metadata": {
    "slideshow": {
     "slide_type": "subslide"
    }
   },
   "source": [
    "**NT** Você pode escrever suas proprias funções, o que será objeto de uma outra aula, mas apenas para clareas um pouco vamos imaginar uma função para a soma de dois numeros:\n",
    "\n",
    "```python\n",
    "def f(x,y):\n",
    "    return x + y\n",
    "f(2,2)\n",
    "```"
   ]
  },
  {
   "cell_type": "code",
   "execution_count": 6,
   "id": "0ba1e04d",
   "metadata": {
    "slideshow": {
     "slide_type": "fragment"
    }
   },
   "outputs": [],
   "source": [
    "def f(x,y):\n",
    "    return x + y"
   ]
  },
  {
   "cell_type": "code",
   "execution_count": 8,
   "id": "aa78a80a",
   "metadata": {
    "slideshow": {
     "slide_type": "subslide"
    }
   },
   "outputs": [
    {
     "name": "stdout",
     "output_type": "stream",
     "text": [
      "4\n",
      "5\n",
      "5550\n"
     ]
    }
   ],
   "source": [
    "print(f(2,2))\n",
    "print(f(3,2))\n",
    "print(f(2122,3428))"
   ]
  },
  {
   "cell_type": "code",
   "execution_count": 9,
   "id": "81d57b5b",
   "metadata": {
    "slideshow": {
     "slide_type": "fragment"
    }
   },
   "outputs": [
    {
     "data": {
      "text/plain": [
       "4"
      ]
     },
     "execution_count": 9,
     "metadata": {},
     "output_type": "execute_result"
    }
   ],
   "source": [
    "f(2,2)"
   ]
  },
  {
   "cell_type": "markdown",
   "id": "7ff0fbcb",
   "metadata": {
    "lang": "pt",
    "slideshow": {
     "slide_type": "slide"
    }
   },
   "source": [
    "# Conseguindo ajuda\n",
    "---\n",
    "Podemos descobrir o que uma função faz pedindo ajuda.\n",
    "\n",
    "Nos notebooks Jupyter, isso é feito colocando um `?` após o nome da função (sem usar parênteses) e avaliando a célula.\n",
    "\n",
    "Por exemplo, podemos pedir ajuda na função `print` escrevendo `print?`.\n",
    "\n",
    "Dependendo de como você iniciou o Jupyter, isso iniciará\n",
    "\n",
    "JupyterLab: exibe a ajuda em texto abaixo da célula."
   ]
  },
  {
   "cell_type": "markdown",
   "id": "a74048bf",
   "metadata": {
    "lang": "pt",
    "slideshow": {
     "slide_type": "subslide"
    }
   },
   "source": [
    "Notebooks Jupyter clássicos: exibe um novo painel na parte inferior da tela. Você pode sair deste painel pressionando a tecla Esc ou clicando no x no canto superior direito do painel.\n",
    "```python\n",
    "print?\n",
    "\"Docstring:\"\n",
    "\"print(value, ..., sep=' ', end='\\n', file=sys.stdout, flush=False)\"\n",
    "\"Prints the values to a stream, or to sys.stdout by default.\"\n",
    "\"Optional keyword arguments:\"\n",
    "\"file:  a file-like object (stream); defaults to the current sys.stdout.\"\n",
    "\"sep:   string inserted between values, default a space.\"\n",
    "\"end:   string appended after the last value, default a newline.\"\n",
    "\"flush: whether to forcibly flush the stream.\"\n",
    "\"Type:      builtin_function_or_method\"\n",
    "```"
   ]
  },
  {
   "cell_type": "code",
   "execution_count": 10,
   "id": "80e2d8da",
   "metadata": {
    "slideshow": {
     "slide_type": "subslide"
    }
   },
   "outputs": [],
   "source": [
    "# Tire o simbolo # da linha abaixo para visualizar o help\n",
    "print?"
   ]
  },
  {
   "cell_type": "markdown",
   "id": "daaed517",
   "metadata": {
    "lang": "pt",
    "slideshow": {
     "slide_type": "subslide"
    }
   },
   "source": [
    "O JupyterLab (usado no Google Colab) também possui uma janela de “Ajuda contextual” ou  “Contextual Help” (anteriormente chamada de “Inspetor” ou  \"Inspector\"). Para usa-lo:\n",
    "\n",
    "* Vá para Comandos e escolha Ajuda Contextual (ou Inspetor), ou selecione `<Ctrl-I>`\n",
    "\n",
    "* Arraste o novo painel do inspetor para encaixar na tela ao lado do seu código.\n",
    "\n",
    "* Em seguida, digite `print` ou qualquer outra função em uma célula e consulte a ajuda."
   ]
  },
  {
   "cell_type": "markdown",
   "id": "6e12b632",
   "metadata": {
    "lang": "pt",
    "slideshow": {
     "slide_type": "slide"
    }
   },
   "source": [
    "# Objetos e Tipos\n",
    "---\n",
    "\n",
    "Tudo em Python é um objeto.\n",
    "\n",
    "Objetos são “coisas” que contêm:\n",
    "1. dados e\n",
    "2. funções que podem operar nos dados.\n",
    "\n",
    "Às vezes nos referimos às funções dentro de um objeto como métodos."
   ]
  },
  {
   "cell_type": "markdown",
   "id": "6ff45c44",
   "metadata": {
    "lang": "pt",
    "slideshow": {
     "slide_type": "slide"
    }
   },
   "source": [
    "Podemos investigar quais dados estão dentro de um objeto e quais métodos ele suporta digitando. depois dessa variável em particular, gerenciando `TAB`. Ele deve listar dados e nomes de métodos à direita do nome da variável, assim:\n",
    "\n",
    "![](https://datascience.quantecon.org/_images/introspection.png)"
   ]
  },
  {
   "cell_type": "markdown",
   "id": "4451e886",
   "metadata": {
    "lang": "pt",
    "slideshow": {
     "slide_type": "subslide"
    }
   },
   "source": [
    "Você pode percorrer esta lista usando as setas para cima e para baixo.\n",
    "\n",
    "Muitas vezes nos referimos a isso como “completar tabulação” ou “introspecção” (NT: “tab completion” or “introspection”).\n",
    "\n",
    "Vamos fazer isso juntos abaixo. Continue descendo até encontrar o método `split`."
   ]
  },
  {
   "cell_type": "code",
   "execution_count": 11,
   "id": "4d4f88ee",
   "metadata": {
    "slideshow": {
     "slide_type": "fragment"
    }
   },
   "outputs": [
    {
     "data": {
      "text/plain": [
       "<function str.split>"
      ]
     },
     "execution_count": 11,
     "metadata": {},
     "output_type": "execute_result"
    }
   ],
   "source": [
    "x.split"
   ]
  },
  {
   "cell_type": "markdown",
   "id": "411e59d6",
   "metadata": {
    "lang": "pt",
    "slideshow": {
     "slide_type": "subslide"
    }
   },
   "source": [
    "Depois de encontrar a divisão do método `.`, você pode usar o método adicionando parênteses depois dele.\n",
    "\n",
    "Vamos chamar o método `split`, que não possui nenhum outro parâmetro obrigatório. (Quiz: como verificaríamos isso?)"
   ]
  },
  {
   "cell_type": "code",
   "execution_count": 12,
   "id": "1c67c838",
   "metadata": {
    "slideshow": {
     "slide_type": "subslide"
    }
   },
   "outputs": [
    {
     "data": {
      "text/plain": [
       "['algo', 'mais']"
      ]
     },
     "execution_count": 12,
     "metadata": {},
     "output_type": "execute_result"
    }
   ],
   "source": [
    "x.split()"
   ]
  },
  {
   "cell_type": "code",
   "execution_count": 13,
   "id": "0a52f50a",
   "metadata": {
    "slideshow": {
     "slide_type": "fragment"
    }
   },
   "outputs": [
    {
     "data": {
      "text/plain": [
       "'algo mais'"
      ]
     },
     "execution_count": 13,
     "metadata": {},
     "output_type": "execute_result"
    }
   ],
   "source": [
    "x"
   ]
  },
  {
   "cell_type": "markdown",
   "id": "510fbf27",
   "metadata": {
    "lang": "pt",
    "slideshow": {
     "slide_type": "slide"
    }
   },
   "source": [
    "Freqüentemente, queremos identificar que tipo de objeto é determinado valor – chamado de “type”.\n",
    "\n",
    "Um “type” é uma abstração que define um conjunto de comportamento para qualquer “instância” desse tipo, ou seja, 2.0 e 3.0 são instâncias de `float`, onde `float` tem um conjunto de comportamentos comuns específicos.\n",
    "\n",
    ">**NT** Para entender o que é instância Poodle 🐩 e São Bernardo 🦮 são instâncias de Cão 🐶, todos tem comportamento similar, latem, comem, mas há uma série de características diferente como o pêlo e a cor, além do temperamento. O seu cão (se você tiver um) possue uma série de comportamentos similares à todos os cães, outros mais especificos da raça, e alguns que são únicos do seu cão 🐕. \n",
    "\n",
    "Em particular, o tipo determina:\n",
    "\n",
    "- os dados disponíveis para qualquer “instância” do tipo (onde cada instância pode ter diferentes valores dos dados).\n",
    "\n",
    "- os métodos que podem ser aplicados no objeto e seus dados."
   ]
  },
  {
   "cell_type": "markdown",
   "id": "e5eeb5d2",
   "metadata": {
    "lang": "pt",
    "slideshow": {
     "slide_type": "subslide"
    }
   },
   "source": [
    "Podemos descobrir isso usando a função `type`.\n",
    "\n",
    "A função `type` recebe um único argumento e gera o tipo desse argumento.\n",
    "\n",
    "```python\n",
    "type(3)\n",
    "type(\"Hello World\")\n",
    "type([1, 2, 3])\n",
    "```\n",
    "\n",
    "> NT. Note que `3` e `\"Hello World\"` são dados do python e possuem características e comportamentos diferentes, que estudaremso mais a frente."
   ]
  },
  {
   "cell_type": "code",
   "execution_count": 14,
   "id": "f9208f80",
   "metadata": {
    "slideshow": {
     "slide_type": "subslide"
    }
   },
   "outputs": [
    {
     "data": {
      "text/plain": [
       "int"
      ]
     },
     "execution_count": 14,
     "metadata": {},
     "output_type": "execute_result"
    }
   ],
   "source": [
    "type(3)"
   ]
  },
  {
   "cell_type": "code",
   "execution_count": 15,
   "id": "465aecc3",
   "metadata": {
    "slideshow": {
     "slide_type": "fragment"
    }
   },
   "outputs": [
    {
     "data": {
      "text/plain": [
       "str"
      ]
     },
     "execution_count": 15,
     "metadata": {},
     "output_type": "execute_result"
    }
   ],
   "source": [
    "type(\"Hello World\")"
   ]
  },
  {
   "cell_type": "code",
   "execution_count": 16,
   "id": "fd5e8972",
   "metadata": {
    "slideshow": {
     "slide_type": "fragment"
    }
   },
   "outputs": [
    {
     "data": {
      "text/plain": [
       "list"
      ]
     },
     "execution_count": 16,
     "metadata": {},
     "output_type": "execute_result"
    }
   ],
   "source": [
    "type([1, 2, 3])"
   ]
  },
  {
   "cell_type": "markdown",
   "id": "f120c438",
   "metadata": {
    "lang": "pt",
    "slideshow": {
     "slide_type": "slide"
    }
   },
   "source": [
    "Módulos\n",
    "---\n",
    "Python adota uma abordagem modular para ferramentas.\n",
    "\n",
    "Com isso, queremos dizer que conjuntos de ferramentas relacionadas são agrupados em pacotes. (Você também pode ouvir o termo módulos para descrever a mesma coisa.)"
   ]
  },
  {
   "cell_type": "markdown",
   "id": "8173cfaf",
   "metadata": {
    "lang": "pt",
    "slideshow": {
     "slide_type": "subslide"
    }
   },
   "source": [
    "Por exemplo:\n",
    "\n",
    "- `pandas` é um pacote que implementa as ferramentas necessárias para fazer análises de dados escaláveis.\n",
    "- `matplotlib` é um pacote que implementa ferramentas de visualização.\n",
    "- `request` e `urllib` são pacotes que permitem ao Python interagir com a internet."
   ]
  },
  {
   "cell_type": "markdown",
   "id": "bb6bd881",
   "metadata": {
    "lang": "pt",
    "slideshow": {
     "slide_type": "subslide"
    }
   },
   "source": [
    "À medida que avançamos nas aulas, a capacidade de acessar esses pacotes se tornará muito importante.\n",
    "\n",
    "Podemos trazer a funcionalidade de um pacote para nossa sessão Python atual escrevendo:\n",
    "```python\n",
    "import package\n",
    "```\n",
    "Depois de fazer isso, qualquer função ou objeto desse pacote pode ser acessado usando `package.name`.\n",
    "\n",
    "Aqui está um exemplo.\n",
    "```python\n",
    "import sys   # pacote para lidar com o sistema do seu computador\n",
    "sys.version  # retorna informações sobre a versão do Python em uso\n",
    "```"
   ]
  },
  {
   "cell_type": "code",
   "execution_count": 17,
   "id": "1d44d194",
   "metadata": {
    "lang": "en",
    "slideshow": {
     "slide_type": "subslide"
    }
   },
   "outputs": [
    {
     "data": {
      "text/plain": [
       "'3.6.13 |Anaconda, Inc.| (default, Mar 16 2021, 11:37:27) [MSC v.1916 64 bit (AMD64)]'"
      ]
     },
     "execution_count": 17,
     "metadata": {},
     "output_type": "execute_result"
    }
   ],
   "source": [
    "import sys   # pacote para lidar com o sistema do seu computador\n",
    "sys.version  # retorna informações sobre a versão do Python em uso"
   ]
  },
  {
   "cell_type": "markdown",
   "id": "d1e2e64d",
   "metadata": {
    "lang": "pt",
    "slideshow": {
     "slide_type": "subslide"
    }
   },
   "source": [
    "# Aliases de módulo\n",
    "Alguns pacotes têm nomes longos (consulte `matplotlib`, por exemplo), o que torna o acesso à funcionalidade do pacote um tanto inconveniente.\n",
    "\n",
    "Para aliviar esse fardo, o Python nos permite dar aliases ou “apelidos” aos pacotes.\n",
    "\n",
    "Por exemplo podemos escrever:\n",
    "\n",
    "```python\n",
    "\n",
    "```\n",
    "Essa instrução nos permite acessar a funcionalidade de pacotes como p.function_name em vez de package.function_name."
   ]
  },
  {
   "cell_type": "markdown",
   "id": "e1dce48a",
   "metadata": {
    "lang": "pt",
    "slideshow": {
     "slide_type": "subslide"
    }
   },
   "source": [
    "Alguns apelidos comuns para pacotes são\n",
    "\n",
    "* `import pandas as pd`\n",
    "* `import numpy as np`\n",
    "* `import matplotlib as mpl`\n",
    "* `import datetime as dt`\n",
    "\n",
    "Embora você possa escolher qualquer nome para um alias, sugerimos que você se atenha aos mais comuns.\n",
    "\n",
    "Você aprenderá o que são esses comuns ao longo do tempo."
   ]
  },
  {
   "cell_type": "markdown",
   "id": "4eb12654",
   "metadata": {
    "lang": "pt",
    "slideshow": {
     "slide_type": "slide"
    }
   },
   "source": [
    "# Bons hábitos de código\n",
    "Um ditado comum no mundo da engenharia de software é:\n",
    "\n",
    "> Sempre codifique como se o cara que acaba mantendo seu código fosse um psicopata violento que sabe onde você mora. Código para legibilidade.\n",
    "\n",
    "Isso pode ser uma tomada dramática, mas o recurso mais importante do seu código após a correção é a legibilidade.\n",
    "\n",
    "Incentivamos você a fazer tudo ao seu alcance para tornar seu código o mais legível possível.\n",
    "\n",
    "Aqui estão algumas sugestões de como fazer isso:"
   ]
  },
  {
   "cell_type": "markdown",
   "id": "7e4ae100",
   "metadata": {
    "lang": "en",
    "slideshow": {
     "slide_type": "subslide"
    }
   },
   "source": [
    "* Comente com frequência. Deixar notas curtas não apenas ajudará outras pessoas que usam seu código, mas também o ajudará a interpretar seu código depois de algum tempo.\n",
    "\n",
    "* Sempre que usar uma vírgula, coloque um espaço logo após.\n",
    "\n",
    "* O espaço em branco é seu amigo. Não escreva linha após linha de código – use linhas em branco para dividi-lo.\n",
    "\n",
    "* Não deixe suas linhas muito longas. Algumas pessoas lendo seu código estarão em um laptop, portanto, você deseja garantir que elas não precisem rolar horizontalmente e para a direita para ler seu código. \n",
    "\n",
    "* Recomendamos não mais de 80 caracteres por linha."
   ]
  },
  {
   "cell_type": "markdown",
   "id": "e55218eb",
   "metadata": {
    "lang": "pt",
    "slideshow": {
     "slide_type": "subslide"
    }
   },
   "source": [
    "> **NT** Observe que essas recomedações são para as células de código ou codificação em uma IDE, nas células markdown, use e abuse dos textos e da formatação. Veja mais sobre formatação e Marrkdown nets [link](https://colab.research.google.com/notebooks/markdown_guide.ipynb?hl=pt-BR)"
   ]
  },
  {
   "cell_type": "markdown",
   "id": "8219dbf0",
   "metadata": {
    "lang": "pt",
    "slideshow": {
     "slide_type": "slide"
    }
   },
   "source": [
    "# Números\n",
    "Python tem dois tipos de números.\n",
    "\n",
    "* Integer (`int`): Estes só podem assumir os valores dos números inteiros, ou seja, ${\\dots, -2, -1, 0, 1, 2, \\dots}$\n",
    "* Número de ponto flutuante (`float`): Pense neles como qualquer número real, como ${\\dots, -2.000, -1.000, 0.001, 0.0000, 1.0001, 2.0, \\dots}$ ,$3.141516$ ou $1.0013247891059234$\n",
    "* A maneira mais fácil de diferenciar esses tipos de números é encontrar uma casa decimal após o número.\n",
    "* Um `float` terá uma casa decimal, mas um inteiro não.\n",
    "* Abaixo, atribuímos números inteiros às variáveis `xi` e `zi` e atribuímos números de ponto flutuante às variáveis `xf` e `zf`."
   ]
  },
  {
   "cell_type": "code",
   "execution_count": 19,
   "id": "4aed2832",
   "metadata": {
    "slideshow": {
     "slide_type": "subslide"
    }
   },
   "outputs": [],
   "source": [
    "xi = 1\n",
    "xf = 1.0\n",
    "zi = 123\n",
    "zf = 1230.5  # Note sem virgulas!\n",
    "zf2 = 1_230.5  # Se precisar use `_` para separar nuemros, mas com parcimônia"
   ]
  },
  {
   "cell_type": "code",
   "execution_count": 20,
   "id": "c4c13a55",
   "metadata": {
    "slideshow": {
     "slide_type": "subslide"
    }
   },
   "outputs": [
    {
     "name": "stdout",
     "output_type": "stream",
     "text": [
      "1\n",
      "1.0\n",
      "123\n",
      "1230.5\n",
      "1230.5\n"
     ]
    }
   ],
   "source": [
    "print(xi) \n",
    "print(xf) \n",
    "print(zi) \n",
    "print(zf) \n",
    "print(zf2)"
   ]
  },
  {
   "cell_type": "code",
   "execution_count": 21,
   "id": "b0e1492f",
   "metadata": {
    "slideshow": {
     "slide_type": "subslide"
    }
   },
   "outputs": [
    {
     "data": {
      "text/plain": [
       "1.0"
      ]
     },
     "execution_count": 21,
     "metadata": {},
     "output_type": "execute_result"
    }
   ],
   "source": [
    "# Veja que interessante\n",
    "xi*xf"
   ]
  },
  {
   "cell_type": "code",
   "execution_count": 22,
   "id": "a3fc9b3d",
   "metadata": {
    "slideshow": {
     "slide_type": "fragment"
    }
   },
   "outputs": [
    {
     "data": {
      "text/plain": [
       "1"
      ]
     },
     "execution_count": 22,
     "metadata": {},
     "output_type": "execute_result"
    }
   ],
   "source": [
    "#Isso também é interessante\n",
    "int(xi*xf)"
   ]
  },
  {
   "cell_type": "markdown",
   "id": "3e25ae0c",
   "metadata": {
    "lang": "pt",
    "slideshow": {
     "slide_type": "subslide"
    }
   },
   "source": [
    "# Python como uma calculadora\n",
    "Você pode usar o Python para realizar cálculos matemáticos.\n",
    "```python\n",
    "a = 4\n",
    "b = 2\n",
    "\n",
    "print(\"a + b is\", a + b)\n",
    "print(\"a - b is\", a - b)\n",
    "print(\"a * b is\", a * b)\n",
    "print(\"a / b is\", a / b)\n",
    "print(\"a ** b is\", a**b)\n",
    "print(\"a ^ b is\", a^b)\n",
    "```"
   ]
  },
  {
   "cell_type": "code",
   "execution_count": 23,
   "id": "2693bbe6",
   "metadata": {
    "slideshow": {
     "slide_type": "subslide"
    }
   },
   "outputs": [
    {
     "name": "stdout",
     "output_type": "stream",
     "text": [
      "a + b é 6\n",
      "a - b é 2\n",
      "a * b é 8\n",
      "a / b é 2.0\n",
      "a ** b é 16\n",
      "a ^ b é 6\n"
     ]
    }
   ],
   "source": [
    "a = 4\n",
    "b = 2\n",
    "\n",
    "print(\"a + b é\", a + b)\n",
    "print(\"a - b é\", a - b)\n",
    "print(\"a * b é\", a * b)\n",
    "print(\"a / b é\", a / b)\n",
    "print(\"a ** b é\", a**b)\n",
    "print(\"a ^ b é\", a^b)"
   ]
  },
  {
   "cell_type": "markdown",
   "id": "7a1e5671",
   "metadata": {
    "slideshow": {
     "slide_type": "fragment"
    }
   },
   "source": [
    "<div class=\"alert alert-block alert-danger\">\n",
    "<b>Importante:</b> Python usa <b>**</b>, não <b>^</b>, para exponenciação (elevar um número a uma potência)!\n",
    "</div>"
   ]
  },
  {
   "cell_type": "markdown",
   "id": "55ffa3fd",
   "metadata": {
    "lang": "pt",
    "slideshow": {
     "slide_type": "subslide"
    }
   },
   "source": [
    "Observe também que acima `+`, `-` e `**` todos retornaram um tipo inteiro, mas `/` converteu o resultado em um `float`.\n",
    "\n",
    "> Sempre que possível, as operações entre inteiros retornam um tipo inteiro.\n",
    "\n",
    "> Todas as operações envolvendo um float resultarão em um float."
   ]
  },
  {
   "cell_type": "code",
   "execution_count": 24,
   "id": "072c766f",
   "metadata": {
    "slideshow": {
     "slide_type": "subslide"
    }
   },
   "outputs": [
    {
     "name": "stdout",
     "output_type": "stream",
     "text": [
      "a + b is 6.0\n",
      "a - b is 2.0\n",
      "a * b is 8.0\n",
      "a / b is 2.0\n",
      "a ** b is 16.0\n"
     ]
    }
   ],
   "source": [
    "a = 4\n",
    "b = 2.0\n",
    "\n",
    "print(\"a + b is\", a + b)\n",
    "print(\"a - b is\", a - b)\n",
    "print(\"a * b is\", a * b)\n",
    "print(\"a / b is\", a / b)\n",
    "print(\"a ** b is\", a**b)"
   ]
  },
  {
   "cell_type": "markdown",
   "id": "7764754b",
   "metadata": {
    "lang": "pt",
    "slideshow": {
     "slide_type": "subslide"
    }
   },
   "source": [
    "Também podemos encadear operações.\n",
    "\n",
    "Ao fazer isso, o Python segue a ordem padrão de operações - parênteses, expoentes, multiplicação e divisão, seguidos de adição e subtração.    \n",
    "Por exemplo,\n",
    "```python\n",
    "x = 2,0\n",
    "y = 3,0\n",
    "z1 = x + y *x\n",
    "z2 = (x + y)* x\n",
    "```\n",
    "O que você acha que é `z1`?\n",
    "Que tal `z2`?"
   ]
  },
  {
   "cell_type": "code",
   "execution_count": 25,
   "id": "ab4c4c23",
   "metadata": {
    "slideshow": {
     "slide_type": "subslide"
    }
   },
   "outputs": [],
   "source": [
    "x = 2.0\n",
    "y = 3.0\n",
    "z1 = x + y * x\n",
    "z2 = (x + y) * x"
   ]
  },
  {
   "cell_type": "code",
   "execution_count": 26,
   "id": "30e861cd",
   "metadata": {
    "slideshow": {
     "slide_type": "subslide"
    }
   },
   "outputs": [
    {
     "name": "stdout",
     "output_type": "stream",
     "text": [
      "z1 é:  8.0\n",
      "z2 é:  10.0\n"
     ]
    }
   ],
   "source": [
    "print('z1 é: ', z1)\n",
    "print('z2 é: ', z2)"
   ]
  },
  {
   "cell_type": "markdown",
   "id": "8ea0977d",
   "metadata": {
    "lang": "pt",
    "slideshow": {
     "slide_type": "slide"
    }
   },
   "source": [
    "# Outras funções matemáticas\n",
    "\n",
    "Muitas vezes queremos usar outras funções matemáticas em nossos números. Vamos tentar calcular `sen(2.5)`."
   ]
  },
  {
   "cell_type": "code",
   "execution_count": 27,
   "id": "cf961f91",
   "metadata": {
    "slideshow": {
     "slide_type": "subslide"
    }
   },
   "outputs": [
    {
     "ename": "NameError",
     "evalue": "name 'sin' is not defined",
     "output_type": "error",
     "traceback": [
      "\u001b[1;31m---------------------------------------------------------------------------\u001b[0m",
      "\u001b[1;31mNameError\u001b[0m                                 Traceback (most recent call last)",
      "\u001b[1;32m<ipython-input-27-f2e7b04d50a4>\u001b[0m in \u001b[0;36m<module>\u001b[1;34m\u001b[0m\n\u001b[1;32m----> 1\u001b[1;33m \u001b[0msin\u001b[0m\u001b[1;33m(\u001b[0m\u001b[1;36m2.5\u001b[0m\u001b[1;33m)\u001b[0m\u001b[1;33m\u001b[0m\u001b[1;33m\u001b[0m\u001b[0m\n\u001b[0m",
      "\u001b[1;31mNameError\u001b[0m: name 'sin' is not defined"
     ]
    }
   ],
   "source": [
    "sin(2.5)"
   ]
  },
  {
   "cell_type": "markdown",
   "id": "bea044c6",
   "metadata": {
    "lang": "pt",
    "slideshow": {
     "slide_type": "subslide"
    }
   },
   "source": [
    "Como visto acima, Python reclama que sin não está definido.\n",
    "\n",
    "O problema aqui é que a função sin – assim como muitas outras funções matemáticas padrão – estão contidas no pacote math.\n",
    "\n",
    "Devemos começar importando o pacote `math`."
   ]
  },
  {
   "cell_type": "code",
   "execution_count": 28,
   "id": "375442e7",
   "metadata": {
    "slideshow": {
     "slide_type": "subslide"
    }
   },
   "outputs": [],
   "source": [
    "import math"
   ]
  },
  {
   "cell_type": "markdown",
   "id": "91dc469b",
   "metadata": {
    "lang": "pt",
    "slideshow": {
     "slide_type": "fragment"
    }
   },
   "source": [
    "Agora, podemos usar math.TAB para ver quais funções estão disponíveis para nós.\n",
    "Na proxima célula digite `math.` a seguir clique uma vez em TAB e procure no menu por 'sin'"
   ]
  },
  {
   "cell_type": "code",
   "execution_count": 29,
   "id": "d53200a8",
   "metadata": {
    "slideshow": {
     "slide_type": "fragment"
    }
   },
   "outputs": [
    {
     "data": {
      "text/plain": [
       "0.5984721441039564"
      ]
     },
     "execution_count": 29,
     "metadata": {},
     "output_type": "execute_result"
    }
   ],
   "source": [
    "math.sin(2.5)"
   ]
  },
  {
   "cell_type": "code",
   "execution_count": 30,
   "id": "fed89fc4",
   "metadata": {
    "slideshow": {
     "slide_type": "fragment"
    }
   },
   "outputs": [
    {
     "data": {
      "text/plain": [
       "0.5984721441039564"
      ]
     },
     "execution_count": 30,
     "metadata": {},
     "output_type": "execute_result"
    }
   ],
   "source": [
    "# encontrando math.sin digite (2.5)\n",
    "math.sin(2.5)"
   ]
  },
  {
   "cell_type": "markdown",
   "id": "a96e84a5",
   "metadata": {
    "lang": "pt",
    "slideshow": {
     "slide_type": "slide"
    }
   },
   "source": [
    "# Operadores de divisão inteira/módulo\n",
    "\n",
    "É menos provável que você encontre os seguintes operadores, mas entender que eles existem é útil.\n",
    "\n",
    "Para dois números atribuídos às variáveis `x` e `y`,\n",
    "\n",
    "- Divisão inteira: `x // y`\n",
    "\n",
    "- Divisão de módulo: `x % y`\n",
    "\n",
    "Lembra quando você aprendeu a fazer divisão e foi solicitado a falar sobre o quociente e o resto?"
   ]
  },
  {
   "cell_type": "markdown",
   "id": "9d356e50",
   "metadata": {
    "lang": "pt",
    "slideshow": {
     "slide_type": "subslide"
    }
   },
   "source": [
    "É a isso que correspondem esses operadores…\n",
    "\n",
    "A divisão inteira retorna o número de vezes que o divisor entra no dividendo (o quociente) e a divisão do módulo retorna o restante.\n",
    "\n",
    "Um exemplo seria 37 dividido por 7:\n",
    "\n",
    "A divisão inteira retornaria 5 $(7 * 5 = 35)$\n",
    "\n",
    "A divisão do módulo retornaria 2 $(2 + 35 = 37)$\n",
    "\n",
    "Tente!"
   ]
  },
  {
   "cell_type": "code",
   "execution_count": 31,
   "id": "c0f52919",
   "metadata": {
    "slideshow": {
     "slide_type": "subslide"
    }
   },
   "outputs": [
    {
     "name": "stdout",
     "output_type": "stream",
     "text": [
      "5\n",
      "2\n"
     ]
    }
   ],
   "source": [
    "print(37 // 7)\n",
    "print(37 % 7)"
   ]
  },
  {
   "cell_type": "markdown",
   "id": "7e89c1aa",
   "metadata": {
    "lang": "pt",
    "slideshow": {
     "slide_type": "slide"
    }
   },
   "source": [
    "# Strings\n",
    "As informações textuais são armazenadas em um tipo de dados chamado string.\n",
    "\n",
    "Para indicar que você gostaria que algo fosse armazenado como uma string, coloque-o entre aspas.\n",
    "\n",
    "Por exemplo,"
   ]
  },
  {
   "cell_type": "code",
   "execution_count": 32,
   "id": "61dc5980",
   "metadata": {
    "lang": "pt",
    "slideshow": {
     "slide_type": "subslide"
    }
   },
   "outputs": [
    {
     "ename": "SyntaxError",
     "evalue": "invalid syntax (<ipython-input-32-d27dcff7e89c>, line 3)",
     "output_type": "error",
     "traceback": [
      "\u001b[1;36m  File \u001b[1;32m\"<ipython-input-32-d27dcff7e89c>\"\u001b[1;36m, line \u001b[1;32m3\u001b[0m\n\u001b[1;33m    isso não é uma string # Sem aspas\u001b[0m\n\u001b[1;37m           ^\u001b[0m\n\u001b[1;31mSyntaxError\u001b[0m\u001b[1;31m:\u001b[0m invalid syntax\n"
     ]
    }
   ],
   "source": [
    "\"esta é uma string\" # Observe as aspas\n",
    "'esta é uma string' # Observe as aspas simples\n",
    "isso não é uma string # Sem aspas"
   ]
  },
  {
   "cell_type": "markdown",
   "id": "2df33c0b",
   "metadata": {
    "lang": "pt",
    "slideshow": {
     "slide_type": "subslide"
    }
   },
   "source": [
    "Você pode usar `\"` ou `'` para criar uma string. Apenas certifique-se de iniciar e terminar a string com a mesma!\n",
    "\n",
    "Observe que, se pedirmos a Python para nos dizer o tipo de string, ele abrevia sua resposta para `str`."
   ]
  },
  {
   "cell_type": "code",
   "execution_count": 33,
   "id": "5b0c98c2",
   "metadata": {
    "slideshow": {
     "slide_type": "subslide"
    }
   },
   "outputs": [
    {
     "data": {
      "text/plain": [
       "str"
      ]
     },
     "execution_count": 33,
     "metadata": {},
     "output_type": "execute_result"
    }
   ],
   "source": [
    "type(\"this is a string\")"
   ]
  },
  {
   "cell_type": "markdown",
   "id": "ff32ab8b",
   "metadata": {
    "lang": "pt",
    "slideshow": {
     "slide_type": "slide"
    }
   },
   "source": [
    "# Operações de String\n",
    "Alguns dos operadores aritméticos que vimos na aula de números também funcionam em strings:\n",
    "\n",
    "- Junte duas strings: `x + y`(concatenação)\n",
    "\n",
    "- Repita a string `x` um total de `n` vezes: `n *x` (ou `x* n`)."
   ]
  },
  {
   "cell_type": "code",
   "execution_count": 34,
   "id": "3b5c543f",
   "metadata": {
    "slideshow": {
     "slide_type": "subslide"
    }
   },
   "outputs": [],
   "source": [
    "x = \"Hello\"\n",
    "y = \"World\""
   ]
  },
  {
   "cell_type": "code",
   "execution_count": 35,
   "id": "098efe5e",
   "metadata": {
    "slideshow": {
     "slide_type": "fragment"
    }
   },
   "outputs": [
    {
     "data": {
      "text/plain": [
       "'HelloWorld'"
      ]
     },
     "execution_count": 35,
     "metadata": {},
     "output_type": "execute_result"
    }
   ],
   "source": [
    "x + y"
   ]
  },
  {
   "cell_type": "code",
   "execution_count": 36,
   "id": "93abee27",
   "metadata": {
    "slideshow": {
     "slide_type": "fragment"
    }
   },
   "outputs": [
    {
     "data": {
      "text/plain": [
       "'HelloHelloHello'"
      ]
     },
     "execution_count": 36,
     "metadata": {},
     "output_type": "execute_result"
    }
   ],
   "source": [
    "3*x"
   ]
  },
  {
   "cell_type": "markdown",
   "id": "07ccd15e",
   "metadata": {
    "lang": "pt",
    "slideshow": {
     "slide_type": "subslide"
    }
   },
   "source": [
    "O que acontece se tentarmos * com duas strings, ou - ou /?\n",
    "\n",
    "A melhor forma de descobrir é experimentando!"
   ]
  },
  {
   "cell_type": "code",
   "execution_count": 37,
   "id": "7579f970",
   "metadata": {
    "slideshow": {
     "slide_type": "subslide"
    }
   },
   "outputs": [
    {
     "ename": "TypeError",
     "evalue": "can't multiply sequence by non-int of type 'str'",
     "output_type": "error",
     "traceback": [
      "\u001b[1;31m---------------------------------------------------------------------------\u001b[0m",
      "\u001b[1;31mTypeError\u001b[0m                                 Traceback (most recent call last)",
      "\u001b[1;32m<ipython-input-37-81e08f80d3d1>\u001b[0m in \u001b[0;36m<module>\u001b[1;34m\u001b[0m\n\u001b[0;32m      1\u001b[0m \u001b[0ma\u001b[0m \u001b[1;33m=\u001b[0m \u001b[1;34m\"1\"\u001b[0m\u001b[1;33m\u001b[0m\u001b[1;33m\u001b[0m\u001b[0m\n\u001b[0;32m      2\u001b[0m \u001b[0mb\u001b[0m \u001b[1;33m=\u001b[0m \u001b[1;34m\"2\"\u001b[0m\u001b[1;33m\u001b[0m\u001b[1;33m\u001b[0m\u001b[0m\n\u001b[1;32m----> 3\u001b[1;33m \u001b[0ma\u001b[0m \u001b[1;33m*\u001b[0m \u001b[0mb\u001b[0m\u001b[1;33m\u001b[0m\u001b[1;33m\u001b[0m\u001b[0m\n\u001b[0m",
      "\u001b[1;31mTypeError\u001b[0m: can't multiply sequence by non-int of type 'str'"
     ]
    }
   ],
   "source": [
    "a = \"1\"\n",
    "b = \"2\"\n",
    "a * b"
   ]
  },
  {
   "cell_type": "code",
   "execution_count": 38,
   "id": "ca9572ab",
   "metadata": {
    "slideshow": {
     "slide_type": "subslide"
    }
   },
   "outputs": [
    {
     "ename": "TypeError",
     "evalue": "unsupported operand type(s) for -: 'str' and 'str'",
     "output_type": "error",
     "traceback": [
      "\u001b[1;31m---------------------------------------------------------------------------\u001b[0m",
      "\u001b[1;31mTypeError\u001b[0m                                 Traceback (most recent call last)",
      "\u001b[1;32m<ipython-input-38-09bd029d0285>\u001b[0m in \u001b[0;36m<module>\u001b[1;34m\u001b[0m\n\u001b[1;32m----> 1\u001b[1;33m \u001b[0ma\u001b[0m \u001b[1;33m-\u001b[0m \u001b[0mb\u001b[0m\u001b[1;33m\u001b[0m\u001b[1;33m\u001b[0m\u001b[0m\n\u001b[0m",
      "\u001b[1;31mTypeError\u001b[0m: unsupported operand type(s) for -: 'str' and 'str'"
     ]
    }
   ],
   "source": [
    "a - b"
   ]
  },
  {
   "cell_type": "markdown",
   "id": "13f524eb",
   "metadata": {
    "lang": "pt",
    "slideshow": {
     "slide_type": "slide"
    }
   },
   "source": [
    "# Métodos de String\n",
    "Podemos usar muitos métodos para manipular strings.\n",
    "\n",
    "Não seremos capazes de cobrir todos eles aqui, mas vamos dar uma olhada em alguns dos mais úteis."
   ]
  },
  {
   "cell_type": "code",
   "execution_count": 41,
   "id": "13ef4719",
   "metadata": {
    "slideshow": {
     "slide_type": "fragment"
    }
   },
   "outputs": [
    {
     "data": {
      "text/plain": [
       "'Hello'"
      ]
     },
     "execution_count": 41,
     "metadata": {},
     "output_type": "execute_result"
    }
   ],
   "source": [
    "x"
   ]
  },
  {
   "cell_type": "code",
   "execution_count": 42,
   "id": "3195ebbb",
   "metadata": {
    "lang": "en",
    "slideshow": {
     "slide_type": "subslide"
    }
   },
   "outputs": [
    {
     "data": {
      "text/plain": [
       "'hello'"
      ]
     },
     "execution_count": 42,
     "metadata": {},
     "output_type": "execute_result"
    }
   ],
   "source": [
    "x.lower()  # Torna todas as letras minúsculas"
   ]
  },
  {
   "cell_type": "code",
   "execution_count": 43,
   "id": "20309696",
   "metadata": {
    "lang": "en",
    "slideshow": {
     "slide_type": "fragment"
    }
   },
   "outputs": [
    {
     "data": {
      "text/plain": [
       "'HELLO'"
      ]
     },
     "execution_count": 43,
     "metadata": {},
     "output_type": "execute_result"
    }
   ],
   "source": [
    "x.upper()  # Torna todas as letras maiúsculas"
   ]
  },
  {
   "cell_type": "code",
   "execution_count": 44,
   "id": "e62e8085",
   "metadata": {
    "lang": "en",
    "slideshow": {
     "slide_type": "fragment"
    }
   },
   "outputs": [
    {
     "data": {
      "text/plain": [
       "2"
      ]
     },
     "execution_count": 44,
     "metadata": {},
     "output_type": "execute_result"
    }
   ],
   "source": [
    "x.count(\"l\")  # Conta o número de uma determinada string"
   ]
  },
  {
   "cell_type": "markdown",
   "id": "77c7b5af",
   "metadata": {
    "lang": "pt",
    "slideshow": {
     "slide_type": "slide"
    }
   },
   "source": [
    "# Formatação de String\n",
    "\n",
    "Às vezes, gostaríamos de reutilizar parte de uma string repetidamente, mas ainda fazer algumas alterações relativamente pequenas a cada uso.\n",
    "\n",
    "Podemos fazer isso com a formatação de string, que é feita usando `{}` como um espaço reservado onde gostaríamos de alterar a string, com um nome de variável ou expressão.\n",
    "\n",
    "Vejamos um exemplo."
   ]
  },
  {
   "cell_type": "code",
   "execution_count": 45,
   "id": "08682df3",
   "metadata": {
    "slideshow": {
     "slide_type": "subslide"
    }
   },
   "outputs": [
    {
     "name": "stdout",
     "output_type": "stream",
     "text": [
      "O PIB do Vietnam foi $223900000.0 em 2017\n"
     ]
    }
   ],
   "source": [
    "country = \"Vietnam\"\n",
    "GDP = 223.9\n",
    "year = 2017\n",
    "my_string = f\"O PIB do {country} foi ${GDP * 1_000_000} em {year}\"\n",
    "print(my_string)"
   ]
  },
  {
   "cell_type": "markdown",
   "id": "5ef0e887",
   "metadata": {
    "lang": "pt",
    "slideshow": {
     "slide_type": "subslide"
    }
   },
   "source": [
    "Em vez de apenas substituir um nome de variável, você pode usar um cálculo ou expressão."
   ]
  },
  {
   "cell_type": "code",
   "execution_count": 46,
   "id": "28577b7e",
   "metadata": {
    "slideshow": {
     "slide_type": "fragment"
    }
   },
   "outputs": [
    {
     "name": "stdout",
     "output_type": "stream",
     "text": [
      "5**2 = 25\n"
     ]
    }
   ],
   "source": [
    "print(f\"{5}**2 = {5**2}\")"
   ]
  },
  {
   "cell_type": "markdown",
   "id": "d14a757c",
   "metadata": {
    "lang": "pt",
    "slideshow": {
     "slide_type": "subslide"
    }
   },
   "source": [
    "Ou, usando nosso exemplo anterior"
   ]
  },
  {
   "cell_type": "code",
   "execution_count": 47,
   "id": "c900f89a",
   "metadata": {
    "slideshow": {
     "slide_type": "fragment"
    }
   },
   "outputs": [
    {
     "name": "stdout",
     "output_type": "stream",
     "text": [
      "O PIB do Vietnam foi $223900000.0 em 2017\n"
     ]
    }
   ],
   "source": [
    "my_string = f\"O PIB do {country} foi ${GDP * 1_000_000} em {year}\"\n",
    "print(my_string)"
   ]
  },
  {
   "cell_type": "markdown",
   "id": "1888e643",
   "metadata": {
    "lang": "pt",
    "slideshow": {
     "slide_type": "fragment"
    }
   },
   "source": [
    "Nesses casos, `f` na frente da string faz com que o Python interpole qualquer expressão válida dentro das chaves `{}`.\n",
    "\n",
    "Como alternativa, para reutilizar uma string formatada, você pode chamar o método `format` (observando que você não deve colocar `f` na frente)."
   ]
  },
  {
   "cell_type": "code",
   "execution_count": 48,
   "id": "171f58d6",
   "metadata": {
    "slideshow": {
     "slide_type": "subslide"
    }
   },
   "outputs": [
    {
     "data": {
      "text/plain": [
       "'O Vietnam teve um PIB de $223.9 bilhões em 2017'"
      ]
     },
     "execution_count": 48,
     "metadata": {},
     "output_type": "execute_result"
    }
   ],
   "source": [
    "gdp_string = \"O {pais} teve um PIB de ${PIB} bilhões em {ano}\"\n",
    "\n",
    "gdp_string.format(pais = \"Vietnam\", PIB = 223.9, ano = 2017)"
   ]
  },
  {
   "cell_type": "markdown",
   "id": "9e57f83c",
   "metadata": {
    "lang": "pt",
    "slideshow": {
     "slide_type": "subslide"
    }
   },
   "source": [
    "Para mais informações sobre o que você pode fazer com a formatação de strings (há muito que pode ser feito…), consulte a [documentação oficial do Python](https://docs.python.org/3.6/library/string.html) sobre o assunto."
   ]
  },
  {
   "cell_type": "markdown",
   "id": "46f95d9e",
   "metadata": {
    "lang": "pt",
    "slideshow": {
     "slide_type": "slide"
    }
   },
   "source": [
    "# Booleanos\n",
    "Um booleano é um tipo que denota verdadeiro ou falso.\n",
    "\n",
    "Como você verá em breve no capítulo de fluxo de controle, o uso de valores booleanos permite que você execute ou pule operações dependendo de uma condição ser atendida ou não.\n",
    "\n",
    "Vamos começar criando alguns booleanos e analisando-os."
   ]
  },
  {
   "cell_type": "code",
   "execution_count": 49,
   "id": "eb58e8af",
   "metadata": {
    "slideshow": {
     "slide_type": "subslide"
    }
   },
   "outputs": [
    {
     "data": {
      "text/plain": [
       "bool"
      ]
     },
     "execution_count": 49,
     "metadata": {},
     "output_type": "execute_result"
    }
   ],
   "source": [
    "x = True\n",
    "y = False\n",
    "\n",
    "type(x)"
   ]
  },
  {
   "cell_type": "code",
   "execution_count": 50,
   "id": "1a4d5f59",
   "metadata": {
    "slideshow": {
     "slide_type": "fragment"
    }
   },
   "outputs": [
    {
     "data": {
      "text/plain": [
       "True"
      ]
     },
     "execution_count": 50,
     "metadata": {},
     "output_type": "execute_result"
    }
   ],
   "source": [
    "x"
   ]
  },
  {
   "cell_type": "code",
   "execution_count": 51,
   "id": "6e2fc127",
   "metadata": {
    "slideshow": {
     "slide_type": "fragment"
    }
   },
   "outputs": [
    {
     "data": {
      "text/plain": [
       "False"
      ]
     },
     "execution_count": 51,
     "metadata": {},
     "output_type": "execute_result"
    }
   ],
   "source": [
    "y"
   ]
  },
  {
   "cell_type": "markdown",
   "id": "33f33dbb",
   "metadata": {
    "lang": "pt",
    "slideshow": {
     "slide_type": "subslide"
    }
   },
   "source": [
    "# Operadores de Comparação\n",
    "\n",
    "Em vez de escrever `True` ou `False` diretamente, você geralmente criará booleanos fazendo uma comparação.   \n",
    "Por exemplo, você pode querer avaliar se o preço de um determinado ativo é maior ou menor que algum preço.   \n",
    "Para duas variáveis `x` e `y`, podemos fazer as seguintes comparações:"
   ]
  },
  {
   "cell_type": "markdown",
   "id": "644f110a",
   "metadata": {
    "lang": "pt",
    "slideshow": {
     "slide_type": "subslide"
    }
   },
   "source": [
    "* Maior que: `x > y`\n",
    "* Menor que: `x < y`\n",
    "* Igual a: `==`\n",
    "* Maior ou igual a: `x >= y`\n",
    "* Menor ou igual a: `x <= y`\n",
    "Nós demonstramos isso abaixo."
   ]
  },
  {
   "cell_type": "code",
   "execution_count": 52,
   "id": "38f8756b",
   "metadata": {
    "slideshow": {
     "slide_type": "subslide"
    }
   },
   "outputs": [
    {
     "name": "stdout",
     "output_type": "stream",
     "text": [
      "a > b é True\n",
      "a < b é False\n",
      "a == b é False\n",
      "a >= b é True\n",
      "a <= b é False\n"
     ]
    }
   ],
   "source": [
    "a = 4\n",
    "b = 2\n",
    "\n",
    "print(\"a > b\", \"é\", a > b)\n",
    "print(\"a < b\", \"é\", a < b)\n",
    "print(\"a == b\", \"é\", a == b)\n",
    "print(\"a >= b\", \"é\", a >= b)\n",
    "print(\"a <= b\", \"é\", a <= b)"
   ]
  },
  {
   "cell_type": "markdown",
   "id": "dfd2a45e",
   "metadata": {
    "lang": "pt",
    "slideshow": {
     "slide_type": "slide"
    }
   },
   "source": [
    "# Negação\n",
    "Ocasionalmente, determinar se uma afirmação é “não verdadeira” ou “não falsa” é mais conveniente do que simplesmente “verdadeira” ou “falsa”.\n",
    "\n",
    "Isso é conhecido como negar uma declaração.\n",
    "\n",
    "Em Python, podemos negar um booleano usando a palavra `not`."
   ]
  },
  {
   "cell_type": "code",
   "execution_count": 53,
   "id": "b4892367",
   "metadata": {
    "slideshow": {
     "slide_type": "subslide"
    }
   },
   "outputs": [
    {
     "data": {
      "text/plain": [
       "True"
      ]
     },
     "execution_count": 53,
     "metadata": {},
     "output_type": "execute_result"
    }
   ],
   "source": [
    "not False"
   ]
  },
  {
   "cell_type": "code",
   "execution_count": 54,
   "id": "103aca02",
   "metadata": {
    "slideshow": {
     "slide_type": "subslide"
    }
   },
   "outputs": [
    {
     "data": {
      "text/plain": [
       "False"
      ]
     },
     "execution_count": 54,
     "metadata": {},
     "output_type": "execute_result"
    }
   ],
   "source": [
    "not True"
   ]
  },
  {
   "cell_type": "markdown",
   "id": "728d112a",
   "metadata": {
    "lang": "pt",
    "slideshow": {
     "slide_type": "slide"
    }
   },
   "source": [
    "# Múltiplas Comparações (`and`/`or`)\n",
    "Às vezes, precisamos avaliar várias comparações ao mesmo tempo.\n",
    "\n",
    "Isso é feito usando as palavras `and` e `or`.\n",
    "\n",
    "No entanto, esses são os es e ous “matemáticos” – portanto, eles não têm o mesmo significado que você os usaria no inglês coloquial.\n",
    "\n",
    "> `a and b` são verdadeiras somente quando **ambas** a e b são verdadeiras.\n",
    "\n",
    "> `a or b` é verdadeiro sempre que **pelo menos** um de a ou b é verdadeiro."
   ]
  },
  {
   "cell_type": "markdown",
   "id": "b5f3704f",
   "metadata": {
    "lang": "en",
    "slideshow": {
     "slide_type": "subslide"
    }
   },
   "source": [
    "Por exemplo\n",
    "\n",
    "A afirmação “Aceitarei o novo emprego se o salário for maior e eu tiver mais dias de férias” significa que você só aceitaria o novo emprego se **ambos recebesse um salário maior e tivessem mais dias de férias.**    \n",
    "A afirmação “Aceitarei o novo emprego se o salário for maior ou se eu receber mais dias de férias” significa que você aceitaria o trabalho se:\n",
    "- (1) eles aumentassem seu salário,  \n",
    "- (2) você recebesse mais dias de férias ou   \n",
    "- (3) eles aumentam seu salário e te dão mais dias de férias. \n",
    "Vejamos alguns exemplos."
   ]
  },
  {
   "cell_type": "code",
   "execution_count": 55,
   "id": "d8ea8a85",
   "metadata": {
    "slideshow": {
     "slide_type": "subslide"
    }
   },
   "outputs": [
    {
     "data": {
      "text/plain": [
       "False"
      ]
     },
     "execution_count": 55,
     "metadata": {},
     "output_type": "execute_result"
    }
   ],
   "source": [
    "True and False"
   ]
  },
  {
   "cell_type": "code",
   "execution_count": 56,
   "id": "e6888d20",
   "metadata": {
    "slideshow": {
     "slide_type": "fragment"
    }
   },
   "outputs": [
    {
     "data": {
      "text/plain": [
       "True"
      ]
     },
     "execution_count": 56,
     "metadata": {},
     "output_type": "execute_result"
    }
   ],
   "source": [
    "True and True"
   ]
  },
  {
   "cell_type": "code",
   "execution_count": 57,
   "id": "f849de26",
   "metadata": {
    "slideshow": {
     "slide_type": "fragment"
    }
   },
   "outputs": [
    {
     "data": {
      "text/plain": [
       "True"
      ]
     },
     "execution_count": 57,
     "metadata": {},
     "output_type": "execute_result"
    }
   ],
   "source": [
    "True or False"
   ]
  },
  {
   "cell_type": "code",
   "execution_count": 58,
   "id": "ad079557",
   "metadata": {
    "slideshow": {
     "slide_type": "fragment"
    }
   },
   "outputs": [
    {
     "data": {
      "text/plain": [
       "False"
      ]
     },
     "execution_count": 58,
     "metadata": {},
     "output_type": "execute_result"
    }
   ],
   "source": [
    "False or False"
   ]
  },
  {
   "cell_type": "code",
   "execution_count": 59,
   "id": "b1bb1943",
   "metadata": {
    "slideshow": {
     "slide_type": "fragment"
    }
   },
   "outputs": [
    {
     "data": {
      "text/plain": [
       "True"
      ]
     },
     "execution_count": 59,
     "metadata": {},
     "output_type": "execute_result"
    }
   ],
   "source": [
    "True or True"
   ]
  },
  {
   "cell_type": "code",
   "execution_count": 60,
   "id": "c75d4b02",
   "metadata": {
    "lang": "en",
    "slideshow": {
     "slide_type": "subslide"
    }
   },
   "outputs": [
    {
     "data": {
      "text/plain": [
       "True"
      ]
     },
     "execution_count": 60,
     "metadata": {},
     "output_type": "execute_result"
    }
   ],
   "source": [
    "# Podemos encadear várias comparações.\n",
    "True and (False or True)"
   ]
  },
  {
   "cell_type": "markdown",
   "id": "8266f9bc",
   "metadata": {
    "lang": "pt",
    "slideshow": {
     "slide_type": "slide"
    }
   },
   "source": [
    "# `all` (todo) e `any` (qualquer)\n",
    "Vimos como podemos usar as palavras `and` e `or` para processar dois booleanos por vez.\n",
    "\n",
    "As funções `all` e `any` nos permitem processar um número ilimitado de booleanos de uma só vez.\n",
    "\n",
    "`all(bools)` retornará `True` se e somente se **todo**s os booleanos em `bools` forem `True` e retornará `False` caso contrário.\n",
    "\n",
    "`any(bools)` retorna `True` sempre que **um ou mais bools** for `True`."
   ]
  },
  {
   "cell_type": "code",
   "execution_count": 61,
   "id": "ba9f27fd",
   "metadata": {
    "slideshow": {
     "slide_type": "subslide"
    }
   },
   "outputs": [
    {
     "name": "stdout",
     "output_type": "stream",
     "text": [
      "True\n",
      "True\n"
     ]
    }
   ],
   "source": [
    "a = True\n",
    "b = True\n",
    "print(all([a,b]))\n",
    "print(any([a,b]))"
   ]
  },
  {
   "cell_type": "code",
   "execution_count": 62,
   "id": "6b60bf0f",
   "metadata": {
    "slideshow": {
     "slide_type": "subslide"
    }
   },
   "outputs": [
    {
     "name": "stdout",
     "output_type": "stream",
     "text": [
      "False\n",
      "True\n"
     ]
    }
   ],
   "source": [
    "a = True\n",
    "b = False\n",
    "print(all([a,b]))\n",
    "print(any([a,b]))"
   ]
  },
  {
   "cell_type": "code",
   "execution_count": 63,
   "id": "28e6b17b",
   "metadata": {
    "slideshow": {
     "slide_type": "subslide"
    }
   },
   "outputs": [
    {
     "name": "stdout",
     "output_type": "stream",
     "text": [
      "False\n",
      "False\n"
     ]
    }
   ],
   "source": [
    "a = False\n",
    "b = False\n",
    "print(all([a,b]))\n",
    "print(any([a,b]))"
   ]
  },
  {
   "cell_type": "code",
   "execution_count": 64,
   "id": "60db77b6",
   "metadata": {
    "slideshow": {
     "slide_type": "subslide"
    }
   },
   "outputs": [
    {
     "name": "stdout",
     "output_type": "stream",
     "text": [
      "False\n",
      "True\n"
     ]
    }
   ],
   "source": [
    "a = False\n",
    "b = True\n",
    "print(all([a,b]))\n",
    "print(any([a,b]))"
   ]
  },
  {
   "cell_type": "markdown",
   "id": "3b6708d6",
   "metadata": {
    "lang": "pt",
    "slideshow": {
     "slide_type": "slide"
    }
   },
   "source": [
    "# Exercícios"
   ]
  },
  {
   "cell_type": "markdown",
   "id": "0d1f3341",
   "metadata": {
    "lang": "pt",
    "slideshow": {
     "slide_type": "subslide"
    }
   },
   "source": [
    "# Exercício 1\n",
    "Qual você acha que é o valor de `z` depois de executar o código abaixo?\n",
    "```python\n",
    "z = 3\n",
    "z = z + 4\n",
    "print(\"z is\", z)\n",
    "```"
   ]
  },
  {
   "cell_type": "markdown",
   "id": "c639246a",
   "metadata": {
    "lang": "pt",
    "slideshow": {
     "slide_type": "subslide"
    }
   },
   "source": [
    "# Exercício 2\n",
    "Leia sobre o que a função len faz (escrevendo `len?`).\n",
    "\n",
    "O que ele produzirá se lhe dermos a variável `x`?\n",
    "\n",
    "Verifique se você estava certo executando o código `len(x)`."
   ]
  },
  {
   "cell_type": "markdown",
   "id": "fa0e92eb",
   "metadata": {
    "lang": "pt",
    "slideshow": {
     "slide_type": "subslide"
    }
   },
   "source": [
    "# Exercício 3\n",
    "Podemos usar nossas habilidades de introspecção para investigar o conteúdo de um pacote.\n",
    "\n",
    "Na célula abaixo, use a TAB para encontrar uma função do módulo de hora que exibirá a hora local.\n",
    "\n",
    "Usar time.FUNC_NOME? (onde FUNC_NAME é substituído pela função que você encontrou) para ver informações sobre essa função e, em seguida, chame a função."
   ]
  },
  {
   "cell_type": "code",
   "execution_count": null,
   "id": "6dfc56ee",
   "metadata": {
    "slideshow": {
     "slide_type": "subslide"
    }
   },
   "outputs": [],
   "source": [
    "import time"
   ]
  },
  {
   "cell_type": "code",
   "execution_count": null,
   "id": "5e5b3582",
   "metadata": {
    "slideshow": {
     "slide_type": "fragment"
    }
   },
   "outputs": [],
   "source": [
    "time."
   ]
  },
  {
   "cell_type": "markdown",
   "id": "af24c4c3",
   "metadata": {
    "lang": "pt",
    "slideshow": {
     "slide_type": "subslide"
    }
   },
   "source": [
    "# Exercício 4\n",
    "Tente executar import time as t na célula abaixo e veja se consegue chamar a função identificada acima.\n",
    "\n",
    "Funciona?"
   ]
  },
  {
   "cell_type": "code",
   "execution_count": null,
   "id": "40b6cd9d",
   "metadata": {
    "slideshow": {
     "slide_type": "subslide"
    }
   },
   "outputs": [],
   "source": []
  },
  {
   "cell_type": "markdown",
   "id": "32f2e0bd",
   "metadata": {
    "lang": "pt",
    "slideshow": {
     "slide_type": "subslide"
    }
   },
   "source": [
    "# Exercício 5\n",
    "Crie as seguintes variáveis:\n",
    "\n",
    "`D`: Um número de ponto flutuante com o valor 10.000\n",
    "\n",
    "`r`: Um número de ponto flutuante com valor 0,025\n",
    "\n",
    "`T`: Um inteiro com valor 30\n",
    "\n",
    "Nós os usaremos em um exercício posterior."
   ]
  },
  {
   "cell_type": "code",
   "execution_count": null,
   "id": "6852a54b",
   "metadata": {
    "slideshow": {
     "slide_type": "subslide"
    }
   },
   "outputs": [],
   "source": []
  },
  {
   "cell_type": "markdown",
   "id": "48b0d07a",
   "metadata": {
    "lang": "pt",
    "slideshow": {
     "slide_type": "subslide"
    }
   },
   "source": [
    "# Exercício 6\n",
    "Lembra das variáveis que criamos anteriormente?\n",
    "\n",
    "Vamos calcular o valor presente descontado de um pagamento ($D$) criado em ($T$) anos assumindo uma taxa de juros $r$ de 2,5%. Salve esse valor em uma nova variável chamada PDV e imprima sua saída.\n",
    " \n",
    " A fórmula é\n",
    " $$\n",
    " PDV = \\frac{D}{(1+r)^T}\n",
    " $$"
   ]
  },
  {
   "cell_type": "code",
   "execution_count": null,
   "id": "50dd85ee",
   "metadata": {
    "slideshow": {
     "slide_type": "subslide"
    }
   },
   "outputs": [],
   "source": []
  },
  {
   "cell_type": "markdown",
   "id": "b21e7e92",
   "metadata": {
    "lang": "pt",
    "slideshow": {
     "slide_type": "subslide"
    }
   },
   "source": [
    "# Exercício 7\n",
    "Verifique o “truque” onde a diferença percentual ($\\frac{x-y}{x}$) entre dois números próximos a 1 pode ser bem aproximada pela diferença entre o logaritmo dos dois números ($log(x)-log(y)$).\n",
    "\n",
    "Use os números `x` e `y` abaixo.\n",
    "\n",
    "> Dica você vai querer usar a função `math.log`"
   ]
  },
  {
   "cell_type": "markdown",
   "id": "588000ff",
   "metadata": {
    "lang": "pt",
    "slideshow": {
     "slide_type": "subslide"
    }
   },
   "source": [
    "# Exercício 8\n",
    "O código abaixo é um código Python inválido\n",
    "```python\n",
    "x = 'O que há de errado com esta string'\n",
    "```\n",
    "Consegues consertar isso?"
   ]
  },
  {
   "cell_type": "code",
   "execution_count": null,
   "id": "7706b7b6",
   "metadata": {
    "slideshow": {
     "slide_type": "fragment"
    }
   },
   "outputs": [],
   "source": [
    "x = 'What's wrong with this string'"
   ]
  },
  {
   "cell_type": "markdown",
   "id": "c4d7a803",
   "metadata": {
    "lang": "pt",
    "slideshow": {
     "slide_type": "subslide"
    }
   },
   "source": [
    "# Exercício 9\n",
    "Usando as variáveis ​​x e y, como você poderia criar a frase Hello World?"
   ]
  },
  {
   "cell_type": "code",
   "execution_count": null,
   "id": "dd99de7c",
   "metadata": {
    "slideshow": {
     "slide_type": "subslide"
    }
   },
   "outputs": [],
   "source": []
  },
  {
   "cell_type": "markdown",
   "id": "9df6d4cd",
   "metadata": {
    "lang": "pt",
    "slideshow": {
     "slide_type": "subslide"
    }
   },
   "source": [
    "# Exercício 10\n",
    "Um dos nossos métodos de string favoritos (e mais usados) é `replace` (substituir).\n",
    "\n",
    "Ele substitui todas as ocorrências de um padrão específico por um padrão diferente.\n",
    "\n",
    "Para o teste de variável abaixo, use o método replace para alterar o c para um d.\n",
    "\n",
    "> Dica: Digite `test.replace?` para obter alguma ajuda sobre como usar o método replace."
   ]
  },
  {
   "cell_type": "markdown",
   "id": "3f55d0bb",
   "metadata": {
    "lang": "pt",
    "slideshow": {
     "slide_type": "subslide"
    }
   },
   "source": [
    "# Exercício 11\n",
    "Suponha que você esteja trabalhando com dados de preços e encontre o valor \"\\$6.50\". (Teste: por que isso é um problema? Pense nos exemplos acima.)\n",
    "\n",
    "Neste exercício, sua tarefa é converter o preço variável abaixo em um número.\n",
    "\n",
    "> Dica Assim que a string estiver em um formato adequado, você pode escrever float(clean_price) para torná-la um número."
   ]
  },
  {
   "cell_type": "code",
   "execution_count": null,
   "id": "b5b88a47",
   "metadata": {
    "slideshow": {
     "slide_type": "fragment"
    }
   },
   "outputs": [],
   "source": [
    "clean_price = \"$6.50\"\n",
    "float(clean_price.replace(\"$\",''))"
   ]
  },
  {
   "cell_type": "code",
   "execution_count": null,
   "id": "a58727e7",
   "metadata": {
    "slideshow": {
     "slide_type": "fragment"
    }
   },
   "outputs": [],
   "source": [
    "type(float(clean_price.replace(\"$\",'')))"
   ]
  },
  {
   "cell_type": "markdown",
   "id": "69655b56",
   "metadata": {
    "lang": "pt",
    "slideshow": {
     "slide_type": "subslide"
    }
   },
   "source": [
    "# Exercício 12\n",
    "Pesquise o Brasil no [banco de dados do Banco Mundial](https://data.worldbank.org/country/brazil) e formate uma string mostrando o PIB nos últimos 2 anos.\n",
    "Dica:\n",
    "```python\n",
    "f'O PIB do {} em {} e {} foi respectivamente {} e {}'\n",
    "```"
   ]
  },
  {
   "cell_type": "code",
   "execution_count": null,
   "id": "aaa877e3",
   "metadata": {
    "slideshow": {
     "slide_type": "subslide"
    }
   },
   "outputs": [],
   "source": []
  },
  {
   "cell_type": "markdown",
   "id": "ba72d513",
   "metadata": {
    "lang": "en",
    "slideshow": {
     "slide_type": "subslide"
    }
   },
   "source": [
    "# Exercise 13\n",
    "Instead of hard-coding the values above, try to use the country, GDP and year variables you previously defined.\n"
   ]
  },
  {
   "cell_type": "code",
   "execution_count": null,
   "id": "0be1bcf4",
   "metadata": {
    "slideshow": {
     "slide_type": "subslide"
    }
   },
   "outputs": [],
   "source": []
  },
  {
   "cell_type": "markdown",
   "id": "4b85d225",
   "metadata": {
    "lang": "pt",
    "slideshow": {
     "slide_type": "subslide"
    }
   },
   "source": [
    "# Exercício 13\n",
    "Em vez de codificar os valores acima, tente usar as variáveis de pais, PIB e ano que você definiu anteriormente.\n",
    "Dica:\n",
    "```python\n",
    "f'O PIB do {pais} em {ano1} e {ano2} foi respectivamente {PIB1} e {PIB2}'\n",
    "```"
   ]
  },
  {
   "cell_type": "code",
   "execution_count": null,
   "id": "be6f1ba0",
   "metadata": {
    "slideshow": {
     "slide_type": "subslide"
    }
   },
   "outputs": [],
   "source": []
  },
  {
   "cell_type": "markdown",
   "id": "60cfeac5",
   "metadata": {
    "lang": "pt",
    "slideshow": {
     "slide_type": "subslide"
    }
   },
   "source": [
    "# Exercício 14\n",
    "Crie uma nova string e use a formatação para produzir cada uma das seguintes instruções\n",
    "\n",
    "“A receita do 1º trimestre foi de 110M”\n",
    "\n",
    "“A receita do 2º trimestre foi de 95M”\n",
    "\n",
    "“A receita do 3º trimestre foi de 100M”\n",
    "\n",
    "“A receita do 4º trimestre foi de 130M”\n",
    "Dica:\n",
    "```python\n",
    "f'A receita do {tri}º trimestre foi de {rec}M'\n",
    "```"
   ]
  },
  {
   "cell_type": "code",
   "execution_count": null,
   "id": "a50d146f",
   "metadata": {
    "slideshow": {
     "slide_type": "subslide"
    }
   },
   "outputs": [],
   "source": []
  },
  {
   "cell_type": "markdown",
   "id": "2d6c9159",
   "metadata": {
    "lang": "pt",
    "slideshow": {
     "slide_type": "subslide"
    }
   },
   "source": [
    "# Exercício 15\n",
    "Sem digitar os comandos, determine se as seguintes declarações são verdadeiras ou falsas.\n",
    "\n",
    "Depois de avaliar se o comando é verdadeiro ou falso, execute o código em Python."
   ]
  },
  {
   "cell_type": "markdown",
   "id": "4c2df945",
   "metadata": {
    "lang": "pt",
    "slideshow": {
     "slide_type": "subslide"
    }
   },
   "source": [
    "```python\n",
    "x = 2\n",
    "y = 2\n",
    "z = 4\n",
    "\n",
    "# Declaração 1\n",
    "x > z\n",
    "```"
   ]
  },
  {
   "cell_type": "code",
   "execution_count": null,
   "id": "05c2d4d0",
   "metadata": {
    "slideshow": {
     "slide_type": "subslide"
    }
   },
   "outputs": [],
   "source": []
  },
  {
   "cell_type": "markdown",
   "id": "78ecb12e",
   "metadata": {
    "lang": "pt",
    "slideshow": {
     "slide_type": "subslide"
    }
   },
   "source": [
    "```python\n",
    "# Declaração 1\n",
    "x == y\n",
    "```"
   ]
  },
  {
   "cell_type": "code",
   "execution_count": null,
   "id": "e4303987",
   "metadata": {
    "slideshow": {
     "slide_type": "subslide"
    }
   },
   "outputs": [],
   "source": []
  },
  {
   "cell_type": "markdown",
   "id": "137846c5",
   "metadata": {
    "lang": "pt",
    "slideshow": {
     "slide_type": "subslide"
    }
   },
   "source": [
    "```python\n",
    "# Declaração 3\n",
    "(x < y) and (x > y)\n",
    "```"
   ]
  },
  {
   "cell_type": "code",
   "execution_count": null,
   "id": "68133665",
   "metadata": {
    "slideshow": {
     "slide_type": "subslide"
    }
   },
   "outputs": [],
   "source": []
  },
  {
   "cell_type": "markdown",
   "id": "c466a3ad",
   "metadata": {
    "lang": "pt",
    "slideshow": {
     "slide_type": "subslide"
    }
   },
   "source": [
    "```python\n",
    "# Declaração 4\n",
    "(x < y) ou (x > y)\n",
    "```"
   ]
  },
  {
   "cell_type": "code",
   "execution_count": null,
   "id": "70893237",
   "metadata": {
    "slideshow": {
     "slide_type": "subslide"
    }
   },
   "outputs": [],
   "source": []
  },
  {
   "cell_type": "markdown",
   "id": "6356909f",
   "metadata": {
    "lang": "pt",
    "slideshow": {
     "slide_type": "subslide"
    }
   },
   "source": [
    "```python\n",
    "# Declaração 5\n",
    "(x <= y) e (x >= y)\n",
    "```"
   ]
  },
  {
   "cell_type": "code",
   "execution_count": null,
   "id": "1b1b18db",
   "metadata": {
    "slideshow": {
     "slide_type": "subslide"
    }
   },
   "outputs": [],
   "source": []
  },
  {
   "cell_type": "markdown",
   "id": "f17281d5",
   "metadata": {
    "lang": "pt",
    "slideshow": {
     "slide_type": "subslide"
    }
   },
   "source": [
    "```python\n",
    "# Declaração 6\n",
    "True e ((x < z) or (x < y))\n",
    "```"
   ]
  },
  {
   "cell_type": "code",
   "execution_count": null,
   "id": "4c3472ae",
   "metadata": {
    "slideshow": {
     "slide_type": "subslide"
    }
   },
   "outputs": [],
   "source": []
  }
 ],
 "metadata": {
  "celltoolbar": "Slideshow",
  "kernelspec": {
   "display_name": "Python 3",
   "language": "python",
   "name": "python3"
  },
  "language_info": {
   "codemirror_mode": {
    "name": "ipython",
    "version": 3
   },
   "file_extension": ".py",
   "mimetype": "text/x-python",
   "name": "python",
   "nbconvert_exporter": "python",
   "pygments_lexer": "ipython3",
   "version": "3.6.13"
  },
  "nbTranslate": {
   "displayLangs": [
    "pt",
    "en"
   ],
   "hotkey": "alt-t",
   "langInMainMenu": true,
   "sourceLang": "en",
   "targetLang": "pt",
   "useGoogleTranslate": true
  }
 },
 "nbformat": 4,
 "nbformat_minor": 5
}
