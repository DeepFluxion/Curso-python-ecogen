{
  "cells": [
    {
      "cell_type": "markdown",
      "metadata": {
        "id": "view-in-github",
        "colab_type": "text"
      },
      "source": [
        "<a href=\"https://colab.research.google.com/github/DeepFluxion/Curso-python-ecogen/blob/main/notebooks/Aula_2_Colecoes.ipynb\" target=\"_parent\"><img src=\"https://colab.research.google.com/assets/colab-badge.svg\" alt=\"Open In Colab\"/></a>"
      ]
    },
    {
      "cell_type": "markdown",
      "id": "e951e450",
      "metadata": {
        "id": "e951e450"
      },
      "source": [
        "Python Básico\n",
        "---\n",
        "#### Baseado em [QuantEcon DataScience - Colections](https://datascience.quantecon.org/python_fundamentals/collections.html) por Chase Coleman, Spencer Lyon, and Jesse Perla\n",
        "\n",
        "#### Traduzido e adaptado por Domingos Napolitano\n",
        "---"
      ]
    },
    {
      "cell_type": "markdown",
      "id": "3aa189ec",
      "metadata": {
        "lang": "pt",
        "id": "3aa189ec"
      },
      "source": [
        "# Coleções\n",
        "### Pré-requisitos\n",
        "Tipos de dados principais"
      ]
    },
    {
      "cell_type": "markdown",
      "id": "d962cfbc",
      "metadata": {
        "lang": "pt",
        "id": "d962cfbc"
      },
      "source": [
        "# O que veremos nesta aula\n",
        "\n",
        "## Coleções Ordenadas\n",
        "- Saiba o que é uma lista e uma tupla\n",
        "- Saiba como diferenciar uma lista de uma tupla\n",
        "- Entenda as funções range, zip e enumerate\n",
        "- Ser capaz de usar métodos de lista comuns, como anexar, classificar e inverter"
      ]
    },
    {
      "cell_type": "markdown",
      "id": "de0a2b24",
      "metadata": {
        "lang": "pt",
        "id": "de0a2b24"
      },
      "source": [
        "## Coleções associativas\n",
        "- Entenda o que é um dicionários\n",
        "- Conheça a distinção entre `keys` e `values` de `dicts`\n",
        "- Entenda quando os dicionários são úteis\n",
        "- Estar familiarizado com os métodos `dict` comuns"
      ]
    },
    {
      "cell_type": "markdown",
      "id": "7595b55a",
      "metadata": {
        "lang": "pt",
        "id": "7595b55a"
      },
      "source": [
        "## Sets (opcional)\n",
        "\n",
        "- Saiba o que é um set\n",
        "- Entenda como um conjunto difere de uma lista e uma tupla\n",
        "- Saiba quando usar um conjunto versus uma lista ou uma tupla"
      ]
    },
    {
      "cell_type": "markdown",
      "id": "823e1132",
      "metadata": {
        "lang": "pt",
        "id": "823e1132"
      },
      "source": [
        "# Coleções Ordenadas\n",
        "Listas\n",
        "Uma lista Python é uma coleção ordenada de itens.\n",
        "\n",
        "Podemos criar listas usando a seguinte sintaxe\n",
        "```python\n",
        "[item1, item2,..., itemN]\n",
        "```\n",
        "onde o ... representa qualquer número de itens adicionais.\n",
        "\n",
        "Cada item pode ser de qualquer tipo.\n",
        "\n",
        "Vamos criar algumas listas."
      ]
    },
    {
      "cell_type": "code",
      "execution_count": null,
      "id": "f1a97772",
      "metadata": {
        "lang": "en",
        "id": "f1a97772"
      },
      "outputs": [],
      "source": [
        "# criado, mas não atribuído a uma variável\n",
        "[2.0, 9.1, 12.5]"
      ]
    },
    {
      "cell_type": "code",
      "execution_count": null,
      "id": "f8013295",
      "metadata": {
        "lang": "en",
        "id": "f8013295"
      },
      "outputs": [],
      "source": [
        "# armazenado como a variável `x`\n",
        "x = [2.0, 9.1, 12.5]\n",
        "print(\"x has type\", type(x))\n",
        "x"
      ]
    },
    {
      "cell_type": "markdown",
      "id": "106fd123",
      "metadata": {
        "lang": "pt",
        "id": "106fd123"
      },
      "source": [
        "# O que podemos fazer com listas?\n",
        "Podemos acessar itens em uma lista chamada `minha_lista` usando `minha_lista[N]` onde N é um número inteiro.\n",
        "\n",
        "Nota: Sempre que usamos a sintaxe `x[i]` estamos fazendo o que é chamado de indexação – significa que estamos selecionando um determinado elemento de uma coleção `x`."
      ]
    },
    {
      "cell_type": "code",
      "execution_count": null,
      "id": "e5f2faf7",
      "metadata": {
        "id": "e5f2faf7"
      },
      "outputs": [],
      "source": [
        "x[1]"
      ]
    },
    {
      "cell_type": "markdown",
      "id": "903a604c",
      "metadata": {
        "lang": "pt",
        "id": "903a604c"
      },
      "source": [
        "Espere? Por que `x[1]` retornou `9.1` quando o primeiro elemento em x é realmente `2.0`?\n",
        "\n",
        "Isso aconteceu porque o Python começa a contar em **zero**!\n",
        "\n",
        "Vamos repetir mais uma vez para enfatizar que o Python começa a contar do zero!\n",
        "\n",
        "Para acessar o primeiro elemento de `x` devemos usar `x[0]`:"
      ]
    },
    {
      "cell_type": "code",
      "execution_count": null,
      "id": "184508eb",
      "metadata": {
        "id": "184508eb"
      },
      "outputs": [],
      "source": [
        "x[0]"
      ]
    },
    {
      "cell_type": "markdown",
      "id": "bf53b9e3",
      "metadata": {
        "lang": "pt",
        "id": "bf53b9e3"
      },
      "source": [
        "Também podemos determinar quantos itens estão em uma lista usando a função `len`."
      ]
    },
    {
      "cell_type": "code",
      "execution_count": null,
      "id": "a5d192d2",
      "metadata": {
        "id": "a5d192d2"
      },
      "outputs": [],
      "source": [
        "len(x)"
      ]
    },
    {
      "cell_type": "markdown",
      "id": "1b5a58c7",
      "metadata": {
        "lang": "pt",
        "id": "1b5a58c7"
      },
      "source": [
        "O que acontece se tentarmos indexar com um número maior que o número de itens em uma lista?"
      ]
    },
    {
      "cell_type": "code",
      "execution_count": null,
      "id": "5be3c65b",
      "metadata": {
        "lang": "en",
        "id": "5be3c65b"
      },
      "outputs": [],
      "source": [
        "# descomente a linha abaixo e execute\n",
        "# x[4]"
      ]
    },
    {
      "cell_type": "markdown",
      "id": "6307f145",
      "metadata": {
        "lang": "pt",
        "id": "6307f145"
      },
      "source": [
        "Podemos verificar se uma lista contém um elemento usando a palavra-chave `in`."
      ]
    },
    {
      "cell_type": "code",
      "execution_count": null,
      "id": "9c5350d2",
      "metadata": {
        "id": "9c5350d2"
      },
      "outputs": [],
      "source": [
        "x"
      ]
    },
    {
      "cell_type": "code",
      "execution_count": null,
      "id": "18ae3d7e",
      "metadata": {
        "id": "18ae3d7e"
      },
      "outputs": [],
      "source": [
        "2.0 in x"
      ]
    },
    {
      "cell_type": "code",
      "execution_count": null,
      "id": "6f83fd35",
      "metadata": {
        "id": "6f83fd35"
      },
      "outputs": [],
      "source": [
        "1.5 in x"
      ]
    },
    {
      "cell_type": "markdown",
      "id": "eef32480",
      "metadata": {
        "lang": "pt",
        "id": "eef32480"
      },
      "source": [
        "Para nossa lista `x`, outras operações comuns que podemos querer fazer são…"
      ]
    },
    {
      "cell_type": "code",
      "execution_count": null,
      "id": "d41efa9d",
      "metadata": {
        "id": "d41efa9d"
      },
      "outputs": [],
      "source": [
        "print(x)\n",
        "x.reverse()\n",
        "print(x)\n",
        "x.reverse()\n",
        "print(x)"
      ]
    },
    {
      "cell_type": "code",
      "execution_count": null,
      "id": "02e5b2af",
      "metadata": {
        "id": "02e5b2af"
      },
      "outputs": [],
      "source": [
        "number_list = [10, 25, 42, 1.0]\n",
        "print(number_list)\n",
        "number_list.sort()\n",
        "print(number_list)"
      ]
    },
    {
      "cell_type": "markdown",
      "id": "24701be7",
      "metadata": {
        "lang": "pt",
        "id": "24701be7"
      },
      "source": [
        "Note que para `sort`, nós tínhamos que ter todos os elementos em nossa lista como números (`int` e `float`), mais sobre isso abaixo.\n",
        "\n",
        "Na verdade, poderíamos fazer o mesmo com uma lista de strings. Nesse caso, sort colocará os itens em ordem alfabética."
      ]
    },
    {
      "cell_type": "code",
      "execution_count": null,
      "id": "b1f5ca20",
      "metadata": {
        "id": "b1f5ca20"
      },
      "outputs": [],
      "source": [
        "str_list = [\"NY\", \"AZ\", \"TX\"]\n",
        "print(str_list)\n",
        "str_list.sort()\n",
        "print(str_list)"
      ]
    },
    {
      "cell_type": "markdown",
      "id": "45c2070b",
      "metadata": {
        "lang": "pt",
        "id": "45c2070b"
      },
      "source": [
        "O método `append` adiciona um elemento ao final da lista existente."
      ]
    },
    {
      "cell_type": "code",
      "execution_count": null,
      "id": "526a02a4",
      "metadata": {
        "id": "526a02a4"
      },
      "outputs": [],
      "source": [
        "num_list = [10, 25, 42, 8]\n",
        "print(num_list)\n",
        "num_list.append(10)\n",
        "print(num_list)"
      ]
    },
    {
      "cell_type": "markdown",
      "id": "8a6da336",
      "metadata": {
        "lang": "pt",
        "id": "8a6da336"
      },
      "source": [
        "No entanto, se você chamar `append` com uma lista, ele adicionará uma lista ao final, em vez dos números dessa lista."
      ]
    },
    {
      "cell_type": "code",
      "execution_count": null,
      "id": "6bddb519",
      "metadata": {
        "id": "6bddb519"
      },
      "outputs": [],
      "source": [
        "num_list = [10, 25, 42, 8]\n",
        "print(num_list)\n",
        "num_list.append([20, 4])\n",
        "print(num_list)"
      ]
    },
    {
      "cell_type": "markdown",
      "id": "347fa81a",
      "metadata": {
        "lang": "pt",
        "id": "347fa81a"
      },
      "source": [
        "Em vez disso, para combinar as listas…"
      ]
    },
    {
      "cell_type": "code",
      "execution_count": null,
      "id": "8fb05c8d",
      "metadata": {
        "id": "8fb05c8d"
      },
      "outputs": [],
      "source": [
        "num_list = [10, 25, 42, 8]\n",
        "print(num_list)\n",
        "num_list.extend([20, 4])\n",
        "print(num_list)"
      ]
    },
    {
      "cell_type": "markdown",
      "id": "f713f604",
      "metadata": {
        "lang": "pt",
        "id": "f713f604"
      },
      "source": [
        "## Exercício\n",
        "\n",
        "Veja o exercício 1 na lista de [exercícios](#exercicio1).\n",
        "<a id=\"exercicio1_call\"></a>"
      ]
    },
    {
      "cell_type": "markdown",
      "id": "e2f1a21a",
      "metadata": {
        "lang": "pt",
        "id": "e2f1a21a"
      },
      "source": [
        "# Listas de tipos diferentes\n",
        "Embora a maioria dos exemplos acima tenha usado uma lista com um único tipo de variável, isso não é necessário.\n",
        "\n",
        "Vamos fazer uma pequena alteração com cuidado no primeiro exemplo: substitua `2.0` por `2`"
      ]
    },
    {
      "cell_type": "code",
      "execution_count": null,
      "id": "6f787569",
      "metadata": {
        "id": "6f787569"
      },
      "outputs": [],
      "source": [
        "x = [2, 9.1, 12.5]"
      ]
    },
    {
      "cell_type": "code",
      "execution_count": null,
      "id": "21a67b9e",
      "metadata": {
        "id": "21a67b9e"
      },
      "outputs": [],
      "source": [
        "# armazenado como a varíavel `x`\n",
        "x = [2, \"hello\", 3.0]\n",
        "print(\"x tem o tipo\", type(x))\n",
        "x"
      ]
    },
    {
      "cell_type": "markdown",
      "id": "84fccddc",
      "metadata": {
        "lang": "pt",
        "id": "84fccddc"
      },
      "source": [
        "Para ver os tipos de elementos individuais na lista:"
      ]
    },
    {
      "cell_type": "code",
      "execution_count": null,
      "id": "327af42d",
      "metadata": {
        "id": "327af42d"
      },
      "outputs": [],
      "source": [
        "print(f\"type(x[0]) = {type(x[0])}, type(x[1]) = {type(x[1])}, type(x[2]) = {type(x[2])}\")"
      ]
    },
    {
      "cell_type": "markdown",
      "id": "ac6650c1",
      "metadata": {
        "lang": "pt",
        "id": "ac6650c1"
      },
      "source": [
        "Embora nenhuma limitação de programação impeça isso, você deve ter cuidado ao escrever código com diferentes tipos numéricos e não numéricos na mesma lista.\n",
        "\n",
        "Por exemplo, se os tipos na lista não puderem ser comparados, como você classificaria os elementos da lista? (ou seja, como você determina se a string “hello” é menor que o inteiro 2, “hello” < 2?)"
      ]
    },
    {
      "cell_type": "code",
      "execution_count": null,
      "id": "cfb14081",
      "metadata": {
        "id": "cfb14081"
      },
      "outputs": [],
      "source": [
        "x = [2, \"hello\", 3.0]\n",
        "# descomente a linha abaixo e vja o que acontece!\n",
        "# x.sort()"
      ]
    },
    {
      "cell_type": "markdown",
      "id": "48876cc7",
      "metadata": {
        "lang": "pt",
        "id": "48876cc7"
      },
      "source": [
        "Algumas exceções importantes a esta regra geral são:\n",
        "\n",
        "Listas com números inteiros e pontos flutuantes são menos propensas a erros (já que o código matemático que usa a lista funcionaria com ambos os tipos).\n",
        "\n",
        "Ao trabalhar com listas e dados, talvez você queira representar os valores ausentes com um tipo diferente dos valores existentes."
      ]
    },
    {
      "cell_type": "markdown",
      "id": "0596e874",
      "metadata": {
        "lang": "pt",
        "id": "0596e874"
      },
      "source": [
        "# A função `range`\n",
        "Uma função que você verá frequentemente em Python é a função `range`.\n",
        "\n",
        "Possui três versões:\n",
        "\n",
        "* `range(N)`: vai de 0 a N-1\n",
        "* `range(a, N)`: vai de a a N-1\n",
        "* `range(a, N, d)`: vai de a a N-1, contando` por d`\n",
        "\n",
        "Quando chamamos a função `range`, retornamos algo que tem o tipo `range`:"
      ]
    },
    {
      "cell_type": "code",
      "execution_count": null,
      "id": "1ca95cf7",
      "metadata": {
        "id": "1ca95cf7"
      },
      "outputs": [],
      "source": [
        "r = range(5)\n",
        "print(\"type(r)\", type(r))"
      ]
    },
    {
      "cell_type": "markdown",
      "id": "bb02896c",
      "metadata": {
        "lang": "pt",
        "id": "bb02896c"
      },
      "source": [
        "Para transformar o `range` em uma lista:"
      ]
    },
    {
      "cell_type": "code",
      "execution_count": null,
      "id": "beb47842",
      "metadata": {
        "id": "beb47842"
      },
      "outputs": [],
      "source": [
        "list(r)"
      ]
    },
    {
      "cell_type": "markdown",
      "id": "0a74bb35",
      "metadata": {
        "id": "0a74bb35"
      },
      "source": [
        "## Exercício\n",
        "\n",
        "Veja o exercício 2 na lista de [exercícios](#exercicio2).\n",
        "<a id=\"exercicio2_call\"></a>"
      ]
    },
    {
      "cell_type": "markdown",
      "id": "ffd6e452",
      "metadata": {
        "lang": "pt",
        "id": "ffd6e452"
      },
      "source": [
        "# O que são Tuplas?\n",
        "As tuplas são muito semelhantes às listas e contêm coleções ordenadas de itens.    \n",
        "No entanto, tuplas e listas têm três diferenças principais:\n",
        "1. As tuplas são criadas usando parênteses — `(` e `)` — em vez de colchetes — `[` e `]`.\n",
        "2. As tuplas são imutáveis, que é uma palavra chique da ciência da computação que significa que elas não podem ser alteradas ou alteradas depois de criadas.\n",
        "3. Tuplas e múltiplos valores de retorno de funções estão fortemente conectados, como veremos em funções mais a frente."
      ]
    },
    {
      "cell_type": "code",
      "execution_count": null,
      "id": "11a4665f",
      "metadata": {
        "id": "11a4665f"
      },
      "outputs": [],
      "source": [
        "t = (1, \"hello\", 3.0)\n",
        "print(\"t is a\", type(t))\n",
        "t"
      ]
    },
    {
      "cell_type": "markdown",
      "id": "5aa210d0",
      "metadata": {
        "lang": "pt",
        "id": "5aa210d0"
      },
      "source": [
        "Podemos converter uma lista em uma tupla chamando a função `tuple` em uma lista."
      ]
    },
    {
      "cell_type": "code",
      "execution_count": null,
      "id": "f9c6fba4",
      "metadata": {
        "id": "f9c6fba4"
      },
      "outputs": [],
      "source": [
        "print(\"x é uma\", type(x))\n",
        "print(\"tuple(x) é uma\", type(tuple(x)))\n",
        "tuple(x)"
      ]
    },
    {
      "cell_type": "markdown",
      "id": "558aa104",
      "metadata": {
        "lang": "pt",
        "id": "558aa104"
      },
      "source": [
        "Também podemos converter uma tupla em uma lista usando a função `list`."
      ]
    },
    {
      "cell_type": "code",
      "execution_count": null,
      "id": "df989dd9",
      "metadata": {
        "id": "df989dd9"
      },
      "outputs": [],
      "source": [
        "list(t)"
      ]
    },
    {
      "cell_type": "markdown",
      "id": "02a853c7",
      "metadata": {
        "lang": "pt",
        "id": "02a853c7"
      },
      "source": [
        "Assim como em uma lista, acessamos itens em uma tupla `t` usando `t[N]` onde `N` é um `int`."
      ]
    },
    {
      "cell_type": "code",
      "execution_count": null,
      "id": "fb67e108",
      "metadata": {
        "lang": "en",
        "id": "fb67e108"
      },
      "outputs": [],
      "source": [
        "t[0]  # ainda começa a contar em 0"
      ]
    },
    {
      "cell_type": "code",
      "execution_count": null,
      "id": "652b6507",
      "metadata": {
        "id": "652b6507"
      },
      "outputs": [],
      "source": [
        "t[2]"
      ]
    },
    {
      "cell_type": "markdown",
      "id": "f8b508e6",
      "metadata": {
        "id": "f8b508e6"
      },
      "source": [
        "## Exercício\n",
        "\n",
        "Veja o exercício 3 na lista de [exercícios](#exercicio3).\n",
        "<a id=\"exercicio3_call\"></a>"
      ]
    },
    {
      "cell_type": "markdown",
      "id": "9b1fab52",
      "metadata": {
        "lang": "pt",
        "id": "9b1fab52"
      },
      "source": [
        "Tuplas (e listas) podem ser desempacotadas diretamente em variáveis."
      ]
    },
    {
      "cell_type": "code",
      "execution_count": null,
      "id": "1270ab1f",
      "metadata": {
        "id": "1270ab1f"
      },
      "outputs": [],
      "source": [
        "x, y = (1, \"test\")\n",
        "print(f\"x = {x}, y = {y}\")"
      ]
    },
    {
      "cell_type": "markdown",
      "id": "79425717",
      "metadata": {
        "lang": "pt",
        "id": "79425717"
      },
      "source": [
        "Essa será uma maneira conveniente de trabalhar com funções que retornam vários valores, bem como com compreensões (comprehensions) e loops, que veremos na próxima aula."
      ]
    },
    {
      "cell_type": "markdown",
      "id": "4f58ec6a",
      "metadata": {
        "lang": "pt",
        "id": "4f58ec6a"
      },
      "source": [
        "# Lista vs Tupla: Qual Usar?\n",
        "Você deve usar uma lista ou tupla?\n",
        "\n",
        "Isso depende do que você está armazenando, se pode ser necessário reordenar os elementos ou se adicionar novos elementos sem uma reinterpretação completa dos dados subjacentes.\n",
        "\n",
        "Por exemplo, pegue os dados que representam o PIB (em trilhões) e a população (em bilhões) da China em 2015."
      ]
    },
    {
      "cell_type": "code",
      "execution_count": null,
      "id": "71b5bfdf",
      "metadata": {
        "id": "71b5bfdf"
      },
      "outputs": [],
      "source": [
        "china_data_2015 = (\"China\", 2015, 11.06, 1.371)\n",
        "\n",
        "print(china_data_2015)"
      ]
    },
    {
      "cell_type": "markdown",
      "id": "31597283",
      "metadata": {
        "lang": "pt",
        "id": "31597283"
      },
      "source": [
        "Neste caso, usamos uma tupla porque: (a) a ordenação não faria sentido; e (b) adicionar mais dados exigiria uma reinterpretação de toda a estrutura de dados.\n",
        "\n",
        "Por outro lado, considere uma lista do PIB da China entre 2013 e 2015."
      ]
    },
    {
      "cell_type": "code",
      "execution_count": null,
      "id": "ea01dc91",
      "metadata": {
        "id": "ea01dc91"
      },
      "outputs": [],
      "source": [
        "gdp_data = [9.607, 10.48, 11.06]\n",
        "print(gdp_data)"
      ]
    },
    {
      "cell_type": "markdown",
      "id": "00dad953",
      "metadata": {
        "lang": "pt",
        "id": "00dad953"
      },
      "source": [
        "Neste caso, usamos uma lista, pois adicionar um novo elemento ao final da lista para o PIB de 2016 faria todo o sentido.\n",
        "\n",
        "Nesse sentido, coletar dados sobre a China em anos diferentes pode fazer sentido como uma lista de tuplas (por exemplo, ano, PIB e população – embora veremos maneiras melhores de armazenar esse tipo de dados na seção Pandas)."
      ]
    },
    {
      "cell_type": "code",
      "execution_count": null,
      "id": "fde2ea3a",
      "metadata": {
        "id": "fde2ea3a"
      },
      "outputs": [],
      "source": [
        "china_data = [(2015, 11.06, 1.371), (2014, 10.48, 1.364), (2013, 9.607, 1.357)]\n",
        "print(china_data)"
      ]
    },
    {
      "cell_type": "markdown",
      "id": "e4984e2c",
      "metadata": {
        "lang": "pt",
        "id": "e4984e2c"
      },
      "source": [
        "Em geral, uma regra prática é usar uma lista, a menos que você precise usar uma tupla.\n",
        "\n",
        "Os principais critérios para uso de tupla são quando você deseja:\n",
        "* certifique-se de que a ordem dos elementos não pode mudar\n",
        "* certifique-se de que os valores reais dos elementos não possam mudar\n",
        "* use a coleção como uma chave em um dict (aprenderemos o que isso significa em breve)"
      ]
    },
    {
      "cell_type": "markdown",
      "id": "989568ee",
      "metadata": {
        "lang": "pt",
        "id": "989568ee"
      },
      "source": [
        "# `zip` e `enumerate`\n",
        "Duas funções que podem ser extremamente úteis são `zip` e `enumerate`.\n",
        "\n",
        "Ambas as funções são melhor compreendidas por exemplo, então vamos vê-las em ação e depois falar sobre o que elas fazem."
      ]
    },
    {
      "cell_type": "code",
      "execution_count": null,
      "id": "d8dea7c1",
      "metadata": {
        "id": "d8dea7c1"
      },
      "outputs": [],
      "source": [
        "gdp_data = [9.607, 10.48, 11.06]\n",
        "years = [2013, 2014, 2015]\n",
        "z = zip(years, gdp_data)\n",
        "print(\"type(z)\", type(z))"
      ]
    },
    {
      "cell_type": "markdown",
      "id": "783cdd7c",
      "metadata": {
        "lang": "pt",
        "id": "783cdd7c"
      },
      "source": [
        "Para ver o que está dentro de `z`, vamos convertê-lo em uma lista."
      ]
    },
    {
      "cell_type": "code",
      "execution_count": null,
      "id": "2dfe6dc9",
      "metadata": {
        "id": "2dfe6dc9"
      },
      "outputs": [],
      "source": [
        "list(z)"
      ]
    },
    {
      "cell_type": "markdown",
      "id": "89539364",
      "metadata": {
        "lang": "pt",
        "id": "89539364"
      },
      "source": [
        "* Observe que agora temos uma lista onde cada item é uma tupla.\n",
        "* Dentro de cada tupla, temos um item de cada uma das coleções que passamos para a função `zip`.\n",
        "* Em particular, o primeiro item em `z` contém o primeiro item de `[2013, 2014, 2015]` e o primeiro item de `[9.607, 10.48, 11.06]`.* O segundo item em `z` contém o segundo item de cada coleção e assim por diante.\n",
        "* Podemos acessar um elemento neste e então desempacotar a tupla resultante diretamente em variáveis."
      ]
    },
    {
      "cell_type": "code",
      "execution_count": null,
      "id": "5065485a",
      "metadata": {
        "lang": "en",
        "id": "5065485a"
      },
      "outputs": [],
      "source": [
        "l = list(zip(years, gdp_data))\n",
        "x, y = l[0]\n",
        "print(f\"ano = {x}, PIB = {y}\")"
      ]
    },
    {
      "cell_type": "code",
      "execution_count": null,
      "id": "b592feca",
      "metadata": {
        "lang": "en",
        "id": "b592feca"
      },
      "outputs": [],
      "source": [
        "l = list(zip(years, gdp_data))\n",
        "x, y = l[1]\n",
        "print(f\"ano = {x}, PIB = {y}\")"
      ]
    },
    {
      "cell_type": "code",
      "execution_count": null,
      "id": "eff7e53f",
      "metadata": {
        "lang": "en",
        "id": "eff7e53f"
      },
      "outputs": [],
      "source": [
        "l = list(zip(years, gdp_data))\n",
        "x, y = l[2]\n",
        "print(f\"ano = {x}, PIB = {y}\")"
      ]
    },
    {
      "cell_type": "markdown",
      "id": "bb2e7a47",
      "metadata": {
        "lang": "pt",
        "id": "bb2e7a47"
      },
      "source": [
        "Agora vamos experimentar com `enumerate`."
      ]
    },
    {
      "cell_type": "code",
      "execution_count": null,
      "id": "6b6596c7",
      "metadata": {
        "id": "6b6596c7"
      },
      "outputs": [],
      "source": [
        "e = enumerate([\"a\", \"b\", \"c\"])\n",
        "print(\"type(e)\", type(e))\n",
        "e"
      ]
    },
    {
      "cell_type": "markdown",
      "id": "ef4edd85",
      "metadata": {
        "lang": "pt",
        "id": "ef4edd85"
      },
      "source": [
        "Novamente, chamamos `list(e)` para ver o que está dentro."
      ]
    },
    {
      "cell_type": "code",
      "execution_count": null,
      "id": "145c6c34",
      "metadata": {
        "id": "145c6c34"
      },
      "outputs": [],
      "source": [
        "list(e)"
      ]
    },
    {
      "cell_type": "markdown",
      "id": "d7d7ebfb",
      "metadata": {
        "lang": "pt",
        "id": "d7d7ebfb"
      },
      "source": [
        "Novamente temos uma lista de tuplas, mas desta vez, o primeiro elemento em cada tupla é o índice do segundo elemento da tupla na coleção inicial.\n",
        "\n",
        "Observe que o terceiro item é `(2, 'c')` porque `[\"a\", \"b\", \"c\"][2]` é `'c'`"
      ]
    },
    {
      "cell_type": "markdown",
      "id": "f0c7e069",
      "metadata": {
        "id": "f0c7e069"
      },
      "source": [
        "## Exercício\n",
        "\n",
        "Veja o exercício 4 na lista de [exercícios](#exercicio4).\n",
        "<a id=\"exercicio4_call\"></a>"
      ]
    },
    {
      "cell_type": "markdown",
      "id": "f68d1a50",
      "metadata": {
        "lang": "pt",
        "id": "f68d1a50"
      },
      "source": [
        "Uma peculiaridade importante de alguns tipos iteráveis que não são listas (como o `zip` acima) é que você não pode converter o mesmo tipo em uma lista duas vezes.\n",
        "\n",
        "Isso ocorre porque `zip`, `enumerate` e `range` produzem o que é chamado de **gerador**.\n",
        "\n",
        "Um gerador produzirá apenas cada um de seus elementos uma única vez, portanto, se você chamar a `list` no mesmo gerador uma segunda vez, ele não terá mais nenhum elemento para iterar.\n",
        "\n",
        "Para obter mais informações, consulte a [documentação do Python](https://docs.python.org/3/howto/functional.html#generators)."
      ]
    },
    {
      "cell_type": "code",
      "execution_count": null,
      "id": "56fedb18",
      "metadata": {
        "id": "56fedb18"
      },
      "outputs": [],
      "source": [
        "gdp_data = [9.607, 10.48, 11.06]\n",
        "years = [2013, 2014, 2015]\n",
        "z = zip(years, gdp_data)\n",
        "l = list(z)\n",
        "print(l)\n",
        "m = list(z)\n",
        "print(m)"
      ]
    },
    {
      "cell_type": "markdown",
      "id": "e1f040ba",
      "metadata": {
        "id": "e1f040ba"
      },
      "source": [
        "O que aconteceu ?"
      ]
    },
    {
      "cell_type": "markdown",
      "id": "645a4662",
      "metadata": {
        "lang": "pt",
        "id": "645a4662"
      },
      "source": [
        "# Coleções Associativas"
      ]
    },
    {
      "cell_type": "markdown",
      "id": "523ec42c",
      "metadata": {
        "lang": "pt",
        "id": "523ec42c"
      },
      "source": [
        "## Dicionários\n",
        "Um dicionário (ou `dict`) associa `keys` (keys) com `values` (valores).\n",
        "\n",
        "Será semelhante a um dicionário de palavras, onde as chaves são palavras e os valores são as definições associadas.\n",
        "\n",
        "A maneira mais comum de criar um dict é usar chaves — `{` e `}` — assim:\n",
        "```python\n",
        "{\"key1\": value1, \"key2\": value2, ..., \"keyN\": valueN}\n",
        "```"
      ]
    },
    {
      "cell_type": "markdown",
      "id": "f0fbd42c",
      "metadata": {
        "lang": "pt",
        "id": "f0fbd42c"
      },
      "source": [
        "onde o `...` indica que podemos ter qualquer número de termos adicionais.\n",
        "\n",
        "A parte crucial da sintaxe é que cada par chave-valor é escrito `key: value` e que esses pares são separados por vírgulas — `,`.\n",
        "\n",
        "Vejamos um exemplo usando nossos dados agregados sobre a China em 2015."
      ]
    },
    {
      "cell_type": "code",
      "execution_count": null,
      "id": "4c1c84ba",
      "metadata": {
        "id": "4c1c84ba"
      },
      "outputs": [],
      "source": [
        "china_data = {\"pais\": \"China\", \"ano\": 2015, \"PIB\" : 11.06, \"população\": 1.371}\n",
        "print(china_data)"
      ]
    },
    {
      "cell_type": "markdown",
      "id": "62aaede1",
      "metadata": {
        "lang": "pt",
        "id": "62aaede1"
      },
      "source": [
        "Ao contrário do nosso exemplo acima usando uma `tuple`, um `dict` nos permite associar um nome a cada campo, ao invés de ter que lembrar a ordem dentro da tupla.\n",
        "\n",
        "Freqüentemente, o código que faz um `dict` é mais fácil de ler se colocarmos cada par `key: value` em sua própria linha. (Lembre-se de nosso comentário anterior sobre o uso eficaz de espaços em branco para melhorar a legibilidade!)\n",
        "\n",
        "O código abaixo é equivalente ao que vimos acima."
      ]
    },
    {
      "cell_type": "code",
      "execution_count": null,
      "id": "1a73ea2a",
      "metadata": {
        "id": "1a73ea2a"
      },
      "outputs": [],
      "source": [
        "china_data = {\n",
        "    \"pais\": \"China\",\n",
        "    \"ano\": 2015,\n",
        "    \"PIB\" : 11.06,\n",
        "    \"população\": 1.371\n",
        "}\n",
        "print(china_data)"
      ]
    },
    {
      "cell_type": "markdown",
      "id": "195b138c",
      "metadata": {
        "lang": "pt",
        "id": "195b138c"
      },
      "source": [
        "Na maioria das vezes, as chaves (por exemplo, `“pais”`, `“ano”`, `“PIB”` e `“população”`) serão strings, mas também podemos usar números (`int` ou `float`) ou mesmo tuplas (ou, raramente, uma combinação de tipos).\n",
        "\n",
        "Os valores podem ser de qualquer tipo e diferentes entre si."
      ]
    },
    {
      "cell_type": "markdown",
      "id": "ff5df3c2",
      "metadata": {
        "id": "ff5df3c2"
      },
      "source": [
        "## Exercício\n",
        "\n",
        "Veja o exercício 5 na lista de [exercícios](#exercicio5).\n",
        "<a id=\"exercicio5_call\"></a>"
      ]
    },
    {
      "cell_type": "markdown",
      "id": "8c39dff4",
      "metadata": {
        "lang": "pt",
        "id": "8c39dff4"
      },
      "source": [
        "Este próximo exemplo pretende enfatizar como os valores podem ser qualquer coisa – incluindo outro dicionário."
      ]
    },
    {
      "cell_type": "code",
      "execution_count": null,
      "id": "f593fbd6",
      "metadata": {
        "id": "f593fbd6"
      },
      "outputs": [],
      "source": [
        "companies = {\"AAPL\": {\"bid\": 175.96, \"ask\": 175.98},\n",
        "             \"GE\": {\"bid\": 1047.03, \"ask\": 1048.40},\n",
        "             \"TVIX\": {\"bid\": 8.38, \"ask\": 8.40}}\n",
        "print(companies)"
      ]
    },
    {
      "cell_type": "markdown",
      "id": "602fa9f9",
      "metadata": {
        "id": "602fa9f9"
      },
      "source": [
        "Observe isto:"
      ]
    },
    {
      "cell_type": "code",
      "execution_count": null,
      "id": "28cfb673",
      "metadata": {
        "id": "28cfb673"
      },
      "outputs": [],
      "source": [
        "print(companies[0])"
      ]
    },
    {
      "cell_type": "markdown",
      "id": "c94a5054",
      "metadata": {
        "id": "c94a5054"
      },
      "source": [
        "O que aconteceu ? Veja isto?"
      ]
    },
    {
      "cell_type": "code",
      "execution_count": null,
      "id": "284a8fb1",
      "metadata": {
        "id": "284a8fb1"
      },
      "outputs": [],
      "source": [
        "print(companies[\"AAPL\"])"
      ]
    },
    {
      "cell_type": "code",
      "execution_count": null,
      "id": "2b0a0bb1",
      "metadata": {
        "id": "2b0a0bb1"
      },
      "outputs": [],
      "source": [
        "print(companies[\"AAPL\"]['bid'])\n",
        "print(companies[\"AAPL\"]['ask'])"
      ]
    },
    {
      "cell_type": "markdown",
      "id": "db8a26b9",
      "metadata": {
        "id": "db8a26b9"
      },
      "source": [
        "É aqui que 'dict' é diferente de `list`acompanhe com muita atenção este próximo tópico"
      ]
    },
    {
      "cell_type": "markdown",
      "id": "32e64bf4",
      "metadata": {
        "lang": "pt",
        "id": "32e64bf4"
      },
      "source": [
        "# Obtendo, configurando e atualizando itens de `dict`, (Getting, Setting, and Updating)\n",
        "Agora podemos pedir ao Python que nos diga o valor de uma chave específica usando a sintaxe `d[k]`, onde d é nosso `dict` e `k` é a chave para a qual queremos encontrar o valor.\n",
        "\n",
        "Por exemplo,"
      ]
    },
    {
      "cell_type": "code",
      "execution_count": null,
      "id": "3cd90a0b",
      "metadata": {
        "id": "3cd90a0b"
      },
      "outputs": [],
      "source": [
        "china_data"
      ]
    },
    {
      "cell_type": "code",
      "execution_count": null,
      "id": "fd2d4b73",
      "metadata": {
        "id": "fd2d4b73"
      },
      "outputs": [],
      "source": [
        "print(china_data[\"ano\"])\n",
        "print(f\"pais = {china_data['pais']}, população = {china_data['população']}\")"
      ]
    },
    {
      "cell_type": "markdown",
      "id": "d1f98ffe",
      "metadata": {
        "lang": "pt",
        "id": "d1f98ffe"
      },
      "source": [
        "Nota: quando dentro de uma string de formatação, você pode usar `'` em vez de `\"` como acima para garantir que a formatação ainda funcione com o código incorporado.\n",
        "\n",
        "Se pedirmos o valor de uma chave que não está no `dict`, obteremos um erro."
      ]
    },
    {
      "cell_type": "code",
      "execution_count": null,
      "id": "70d1762d",
      "metadata": {
        "lang": "pt",
        "id": "70d1762d"
      },
      "outputs": [],
      "source": [
        "# descomente a linha abaixo para ver o erro\n",
        "china_data[\"inflação\"]"
      ]
    },
    {
      "cell_type": "markdown",
      "id": "911fb54c",
      "metadata": {
        "lang": "pt",
        "id": "911fb54c"
      },
      "source": [
        "Também podemos adicionar novos itens a um dict usando a sintaxe `d[new_key] = new_value`.\n",
        "\n",
        "Vejamos alguns exemplos."
      ]
    },
    {
      "cell_type": "code",
      "execution_count": null,
      "id": "3d112d86",
      "metadata": {
        "id": "3d112d86"
      },
      "outputs": [],
      "source": [
        "print(china_data)\n",
        "china_data[\"desemprego\"] = \"4.05%\"\n",
        "print(china_data)"
      ]
    },
    {
      "cell_type": "markdown",
      "id": "5c7c34e5",
      "metadata": {
        "lang": "pt",
        "id": "5c7c34e5"
      },
      "source": [
        "Para atualizar o valor, usamos a atribuição da mesma forma (que criará a chave e o valor conforme necessário)."
      ]
    },
    {
      "cell_type": "code",
      "execution_count": null,
      "id": "3d616cf3",
      "metadata": {
        "id": "3d616cf3"
      },
      "outputs": [],
      "source": [
        "print(china_data)\n",
        "china_data[\"desemprego\"] = \"4.051%\"\n",
        "print(china_data)"
      ]
    },
    {
      "cell_type": "markdown",
      "id": "1880bcaf",
      "metadata": {
        "lang": "pt",
        "id": "1880bcaf"
      },
      "source": [
        "Ou podemos mudar o tipo."
      ]
    },
    {
      "cell_type": "code",
      "execution_count": null,
      "id": "26125cfd",
      "metadata": {
        "id": "26125cfd"
      },
      "outputs": [],
      "source": [
        "china_data[\"desemprego\"] = 4.051\n",
        "print(china_data)"
      ]
    },
    {
      "cell_type": "markdown",
      "id": "5bd4ea53",
      "metadata": {
        "id": "5bd4ea53"
      },
      "source": [
        "## Exercício\n",
        "\n",
        "Veja o exercício 6 na lista de [exercícios](#exercicio6).\n",
        "<a id=\"exercicio6_call\"></a>"
      ]
    },
    {
      "cell_type": "markdown",
      "id": "941a1245",
      "metadata": {
        "lang": "pt",
        "id": "941a1245"
      },
      "source": [
        "# Funcionalidades comuns em `dict`\n",
        "Podemos fazer algumas tarefas comuns com `dicts`.\n",
        "\n",
        "Vamos demonstrá-los com exemplos abaixo."
      ]
    },
    {
      "cell_type": "code",
      "execution_count": null,
      "id": "cdcd1692",
      "metadata": {
        "id": "cdcd1692"
      },
      "outputs": [],
      "source": [
        "# Vamos criar novamente o dict china_data\n",
        "china_data = {\n",
        "    \"pais\": \"China\",\n",
        "    \"ano\": 2015,\n",
        "    \"PIB\" : 11.06,\n",
        "    \"população\": 1.371\n",
        "}\n",
        "print(china_data)\n",
        "china_data[\"desemprego\"] = 4.051\n",
        "print(china_data)"
      ]
    },
    {
      "cell_type": "code",
      "execution_count": null,
      "id": "90b1e4ed",
      "metadata": {
        "lang": "pt",
        "id": "90b1e4ed"
      },
      "outputs": [],
      "source": [
        "# número de pares chave-valor em um dict\n",
        "len(china_data)"
      ]
    },
    {
      "cell_type": "code",
      "execution_count": null,
      "id": "d8fd9aea",
      "metadata": {
        "lang": "en",
        "id": "d8fd9aea"
      },
      "outputs": [],
      "source": [
        "# obter uma lista de todas as chaves\n",
        "list(china_data.keys())"
      ]
    },
    {
      "cell_type": "code",
      "execution_count": null,
      "id": "db1d2dcb",
      "metadata": {
        "lang": "en",
        "id": "db1d2dcb"
      },
      "outputs": [],
      "source": [
        "# obter uma lista de todas os valores\n",
        "list(china_data.values())"
      ]
    },
    {
      "cell_type": "code",
      "execution_count": null,
      "id": "ae33fcd3",
      "metadata": {
        "lang": "en",
        "id": "ae33fcd3"
      },
      "outputs": [],
      "source": [
        "more_china_data = {\"terra_irrigada\": 690_070, \"principais_religioes\": {\"budista\": 18.2, \"cristao\" : 5.1, \"mulcumano\": 1.8}}\n",
        "\n",
        "# Adicione todos os pares chave-valor em more_china_data a china_data.\n",
        "# se a chave já aparecer no china_data, substitua o\n",
        "# value com o valor em more_china_data\n",
        "china_data.update(more_china_data)\n",
        "china_data"
      ]
    },
    {
      "cell_type": "code",
      "execution_count": null,
      "id": "6329a762",
      "metadata": {
        "lang": "en",
        "id": "6329a762"
      },
      "outputs": [],
      "source": [
        "# Obtém o valor associado a uma chave ou retorna um valor padrão\n",
        "# use isso para evitar o NameError que vimos acima se você tiver um\n",
        "# valor padrão\n",
        "china_data.get(\"terra_irrigada\", \"Data Not Available\")"
      ]
    },
    {
      "cell_type": "code",
      "execution_count": null,
      "id": "b2d4e2e4",
      "metadata": {
        "id": "b2d4e2e4"
      },
      "outputs": [],
      "source": [
        "china_data.get(\"taxa_mortalidade\", \"Data Not Available\")"
      ]
    },
    {
      "cell_type": "markdown",
      "id": "9de21d1e",
      "metadata": {
        "id": "9de21d1e"
      },
      "source": [
        "## Exercício\n",
        "\n",
        "Veja o exercício 7 na lista de [exercícios](#exercicio7).\n",
        "<a id=\"exercicio7_call\"></a>"
      ]
    },
    {
      "cell_type": "markdown",
      "id": "675a961f",
      "metadata": {
        "id": "675a961f"
      },
      "source": [
        "## Exercício\n",
        "\n",
        "Veja o exercício 8 na lista de [exercícios](#exercicio8).\n",
        "<a id=\"exercicio8_call\"></a>"
      ]
    },
    {
      "cell_type": "markdown",
      "id": "2e77a3cf",
      "metadata": {
        "lang": "pt",
        "id": "2e77a3cf"
      },
      "source": [
        "# Sets - Conjuntos (opcional)\n",
        "Python tem uma maneira adicional de representar coleções de itens: sets - conjuntos.\n",
        "* Conjuntos surgem com pouca frequência, mas você deve estar ciente deles.\n",
        "* Se você estiver familiarizado com o conceito matemático de [conjuntos](https://pt.wikipedia.org/wiki/Conjunto), já entenderá a maioria dos conjuntos Python.\n",
        "* Se você não conhece a matemática por trás dos conjuntos, não se preocupe: abordaremos o básico dos conjuntos do Python aqui."
      ]
    },
    {
      "cell_type": "markdown",
      "id": "1853c14b",
      "metadata": {
        "lang": "pt",
        "id": "1853c14b"
      },
      "source": [
        "> Um conjunto é uma coleção não ordenada de elementos únicos."
      ]
    },
    {
      "cell_type": "markdown",
      "id": "34d631be",
      "metadata": {
        "lang": "pt",
        "id": "34d631be"
      },
      "source": [
        "A sintaxe para criar um conjunto usa chaves `{` e `}`.\n",
        "```python\n",
        "{item1, item2, ..., itemN}\n",
        "```"
      ]
    },
    {
      "cell_type": "markdown",
      "id": "fab0f4dd",
      "metadata": {
        "lang": "pt",
        "id": "fab0f4dd"
      },
      "source": [
        "Aqui está um exemplo."
      ]
    },
    {
      "cell_type": "code",
      "execution_count": null,
      "id": "60e27b5a",
      "metadata": {
        "id": "60e27b5a"
      },
      "outputs": [],
      "source": [
        "s = {1, \"hello\", 3.0}\n",
        "print(\"s has type\", type(s))\n",
        "s"
      ]
    },
    {
      "cell_type": "markdown",
      "id": "fe0827d0",
      "metadata": {
        "id": "fe0827d0"
      },
      "source": [
        "## Exercício\n",
        "\n",
        "Veja o exercício 9 na lista de [exercícios](#exercicio9).\n",
        "<a id=\"exercicio9_call\"></a>"
      ]
    },
    {
      "cell_type": "markdown",
      "id": "81883ba1",
      "metadata": {
        "lang": "pt",
        "id": "81883ba1"
      },
      "source": [
        "Assim como nas listas e tuplas, podemos verificar se algo está no conjunto e verificar o comprimento do conjunto:"
      ]
    },
    {
      "cell_type": "code",
      "execution_count": null,
      "id": "3a974921",
      "metadata": {
        "id": "3a974921"
      },
      "outputs": [],
      "source": [
        "print(\"len(s) =\", len(s))\n",
        "\"hello\" in s"
      ]
    },
    {
      "cell_type": "markdown",
      "id": "69c75f92",
      "metadata": {
        "lang": "pt",
        "id": "69c75f92"
      },
      "source": [
        "Ao contrário de listas e tuplas, não podemos extrair elementos de um conjunto `s` usando `s[N]` onde `N` é um número `int`."
      ]
    },
    {
      "cell_type": "code",
      "execution_count": null,
      "id": "c229c1e5",
      "metadata": {
        "lang": "pt",
        "id": "c229c1e5"
      },
      "outputs": [],
      "source": [
        "# Descomente a linha abaixo para ver o que acontece\n",
        "s[1]"
      ]
    },
    {
      "cell_type": "markdown",
      "id": "973a9973",
      "metadata": {
        "lang": "pt",
        "id": "973a9973"
      },
      "source": [
        "Isso ocorre porque os conjuntos não são ordenados, então a noção de obter o segundo elemento (s[1]) não está bem definida.\n",
        "\n",
        "Adicionamos elementos a um conjunto `s` usando `s.add`."
      ]
    },
    {
      "cell_type": "code",
      "execution_count": null,
      "id": "aa2c32ea",
      "metadata": {
        "id": "aa2c32ea"
      },
      "outputs": [],
      "source": [
        "s.add(100)\n",
        "s"
      ]
    },
    {
      "cell_type": "code",
      "execution_count": null,
      "id": "277d4df4",
      "metadata": {
        "id": "277d4df4"
      },
      "outputs": [],
      "source": [
        "s.add(\"hello\") # nada acontece, por que?\n",
        "s"
      ]
    },
    {
      "cell_type": "markdown",
      "id": "95276809",
      "metadata": {
        "lang": "pt",
        "id": "95276809"
      },
      "source": [
        "Também podemos fazer operações definidas.\n",
        "Considere o conjunto `s` acima e o conjunto `s2 = {\"hello\", \"world\"}`.\n",
        "\n",
        "* `s.union(s2)`: retorna um conjunto com todos os elementos em `s` ou `s2`\n",
        "* `s.intersection(s2)`: retorna um conjunto com todos os elementos em `s` e `s2`\n",
        "*`s.difference(s2)`: retorna um conjunto com todos os elementos em s que não estão em `s2`\n",
        "* `s.symmetric_difference(s2)`: retorna um conjunto com todos os elementos em apenas um dos `s` e `s2`"
      ]
    },
    {
      "cell_type": "markdown",
      "id": "b1ad0517",
      "metadata": {
        "id": "b1ad0517"
      },
      "source": [
        "## Exercício\n",
        "\n",
        "Veja o exercício 10 na lista de [exercícios](#exercicio10).\n",
        "<a id=\"exercicio10_call\"></a>"
      ]
    },
    {
      "cell_type": "markdown",
      "id": "a4a150a2",
      "metadata": {
        "id": "a4a150a2"
      },
      "source": [
        "# Exercícios\n",
        "---\n",
        "\n"
      ]
    },
    {
      "cell_type": "markdown",
      "id": "48c12dc9",
      "metadata": {
        "lang": "pt",
        "id": "48c12dc9"
      },
      "source": [
        "<a id=\"exercicio1\"></a>\n",
        "\n",
        "# Exercício 1\n",
        "\n",
        "Crie duas listas `y` e `z`\n",
        "\n",
        "Na primeira célula, tente `y.append(z)`.\n",
        "\n",
        "Na segunda célula, tente `y.extend(z)`.\n",
        "\n",
        "Explique o comportamento."
      ]
    },
    {
      "cell_type": "code",
      "execution_count": null,
      "id": "e50ceecf",
      "metadata": {
        "id": "e50ceecf"
      },
      "outputs": [],
      "source": [
        "y = [\"a\", \"b\", \"c\"]\n",
        "z = [1, 2, 3]\n",
        "# seu codigo aqui\n",
        "y.append(z)\n",
        "print(y)"
      ]
    },
    {
      "cell_type": "code",
      "execution_count": null,
      "id": "267bd4d5",
      "metadata": {
        "id": "267bd4d5"
      },
      "outputs": [],
      "source": [
        "y = [\"a\", \"b\", \"c\"]\n",
        "z = [1, 2, 3]\n",
        "# seu codigo aqui\n",
        "y.extend(z)\n",
        "print(y)"
      ]
    },
    {
      "cell_type": "markdown",
      "id": "a02bb327",
      "metadata": {
        "id": "a02bb327"
      },
      "source": [
        "[retorne ao texto](#exercicio1_call)"
      ]
    },
    {
      "cell_type": "markdown",
      "id": "df663a65",
      "metadata": {
        "lang": "pt",
        "id": "df663a65"
      },
      "source": [
        "<a id=\"exercicio2\"></a>\n",
        "\n",
        "# Exercício 2\n",
        "\n",
        "Experimente as outras duas versões da função `range`."
      ]
    },
    {
      "cell_type": "code",
      "execution_count": null,
      "id": "b13586da",
      "metadata": {
        "id": "b13586da"
      },
      "outputs": [],
      "source": [
        "# tente list(range(a, N)) -- você define `a` e `N`\n",
        "list(range(10,20))"
      ]
    },
    {
      "cell_type": "code",
      "execution_count": null,
      "id": "1fe6f15e",
      "metadata": {
        "id": "1fe6f15e"
      },
      "outputs": [],
      "source": [
        "# tente list(range(a, N, d)) -- você define `a`, `N`, e `d`"
      ]
    },
    {
      "cell_type": "markdown",
      "id": "e5302ad2",
      "metadata": {
        "id": "e5302ad2"
      },
      "source": [
        "[retorne ao texto](#exercicio2_call)"
      ]
    },
    {
      "cell_type": "markdown",
      "id": "dd6e00d3",
      "metadata": {
        "lang": "pt",
        "id": "dd6e00d3"
      },
      "source": [
        "<a id=\"exercicio3\"></a>\n",
        "\n",
        "# Exercício 3\n",
        "\n",
        "Verifique se as tuplas são realmente imutáveis ​​tentando o seguinte:\n",
        "\n",
        "* Alterando o primeiro elemento de `t` para ser `100`\n",
        "* Adicionando um novo elemento `\"!!\"` ao final de `t` (lembre-se que com uma lista `x` usaríamos `x.append(\"!!\")` para fazer isso\n",
        "* Ordenando `t` (`sort`)\n",
        "* Invertendo `t`(`reverter`)"
      ]
    },
    {
      "cell_type": "code",
      "execution_count": null,
      "id": "1797533e",
      "metadata": {
        "lang": "pt",
        "id": "1797533e"
      },
      "outputs": [],
      "source": [
        "# altere o primeiro elemento de t"
      ]
    },
    {
      "cell_type": "code",
      "execution_count": null,
      "id": "6510e526",
      "metadata": {
        "lang": "en",
        "id": "6510e526"
      },
      "outputs": [],
      "source": [
        "# anexando a t"
      ]
    },
    {
      "cell_type": "code",
      "execution_count": null,
      "id": "039180a1",
      "metadata": {
        "lang": "pt",
        "id": "039180a1"
      },
      "outputs": [],
      "source": [
        "# ordenando t"
      ]
    },
    {
      "cell_type": "code",
      "execution_count": null,
      "id": "c1b9a391",
      "metadata": {
        "lang": "pt",
        "id": "c1b9a391"
      },
      "outputs": [],
      "source": [
        "# revertendo t\n",
        "t.reverse()\n",
        "t"
      ]
    },
    {
      "cell_type": "markdown",
      "id": "b2dbab76",
      "metadata": {
        "id": "b2dbab76"
      },
      "source": [
        "[retorne ao texto](#exercicio3_call)"
      ]
    },
    {
      "cell_type": "markdown",
      "id": "a129b727",
      "metadata": {
        "lang": "pt",
        "id": "a129b727"
      },
      "source": [
        "<a id=\"exercicio4\"></a>\n",
        "\n",
        "# Exercício 4\n",
        "\n",
        "**Desafiador** Para a tupla `foo` abaixo, use uma combinação de `zip`, `range` e `len` para imitar `enumerate(foo)`.\n",
        "\n",
        "Verifique se a solução proposta está correta convertendo cada uma em uma lista e verificando a igualdade com `==`.\n",
        "\n",
        "## Dica\n",
        "Você pode ver como a resposta deve ficar começando com `list(enumerate(foo))`."
      ]
    },
    {
      "cell_type": "code",
      "execution_count": null,
      "id": "9ff102ae",
      "metadata": {
        "id": "9ff102ae"
      },
      "outputs": [],
      "source": [
        "foo = (\"good\", \"luck!\")"
      ]
    },
    {
      "cell_type": "code",
      "execution_count": null,
      "id": "94c0f94c",
      "metadata": {
        "id": "94c0f94c"
      },
      "outputs": [],
      "source": [
        "# saida desejada\n",
        "result = list(enumerate(foo))\n",
        "result"
      ]
    },
    {
      "cell_type": "code",
      "execution_count": null,
      "id": "b6ad5589",
      "metadata": {
        "id": "b6ad5589"
      },
      "outputs": [],
      "source": [
        "# crie sua solução aqui\n",
        "foo\n",
        "numbers = list(range(len(foo)))\n",
        "list(zip(numbers,foo))# == enumerate(foo)"
      ]
    },
    {
      "cell_type": "code",
      "execution_count": null,
      "id": "42bc10af",
      "metadata": {
        "id": "42bc10af"
      },
      "outputs": [],
      "source": [
        "# teste sua solução aqui\n",
        "list(zip(numbers,foo)) == result"
      ]
    },
    {
      "cell_type": "markdown",
      "id": "f4d359e2",
      "metadata": {
        "id": "f4d359e2"
      },
      "source": [
        "[retorne ao texto](#exercicio4_call)"
      ]
    },
    {
      "cell_type": "markdown",
      "id": "7699185f",
      "metadata": {
        "lang": "pt",
        "id": "7699185f"
      },
      "source": [
        "<a id=\"exercicio5\"></a>\n",
        "\n",
        "# Exercício 5\n",
        "\n",
        "Crie um novo `dict` que associe os tickers de ações com o preço de suas ações.\n",
        "\n",
        "Aqui estão alguns 'tickers' e um 'price' (preço).\n",
        "\n",
        "* AAPL: 175,96\n",
        "* GOOGL: 1047.43\n",
        "* TVIX: 8,38"
      ]
    },
    {
      "cell_type": "code",
      "execution_count": null,
      "id": "b128d1fc",
      "metadata": {
        "id": "b128d1fc"
      },
      "outputs": [],
      "source": [
        "# Crie e exiba o diconário aqui"
      ]
    },
    {
      "cell_type": "markdown",
      "id": "ad383a3b",
      "metadata": {
        "id": "ad383a3b"
      },
      "source": [
        "[retorne ao texto](#exercicio5_call)"
      ]
    },
    {
      "cell_type": "markdown",
      "id": "f96b3a5d",
      "metadata": {
        "lang": "pt",
        "id": "f96b3a5d"
      },
      "source": [
        "<a id=\"exercicio6\"></a>\n",
        "\n",
        "# Exercício 6\n",
        "\n",
        "Consulte o World [Factbook for Australia](https://www.cia.gov/the-world-factbook/countries/australia) e crie um dicionário com dados contendo os seguintes tipos: `float`, `string`, ` int`, `list` e `dict`. Escolha os dados que desejar.\n",
        "\n",
        "Para confirmar, você deve ter um dicionário que você identificou por meio de uma chave."
      ]
    },
    {
      "cell_type": "code",
      "execution_count": null,
      "id": "046a9292",
      "metadata": {
        "id": "046a9292"
      },
      "outputs": [],
      "source": [
        "# seu código aqui"
      ]
    },
    {
      "cell_type": "markdown",
      "id": "8abf2135",
      "metadata": {
        "id": "8abf2135"
      },
      "source": [
        "[retorne ao texto](#exercicio6_call)"
      ]
    },
    {
      "cell_type": "markdown",
      "id": "621b6d2f",
      "metadata": {
        "lang": "pt",
        "id": "621b6d2f"
      },
      "source": [
        "<a id=\"exercicio7\"></a>\n",
        "\n",
        "# Exercício 7\n",
        "\n",
        "Use as facilidades de ajuda do Jupyter para aprender como usar o método pop para remover a chave \"desemprego\" (e seu valor) do `dict china_data`."
      ]
    },
    {
      "cell_type": "code",
      "execution_count": null,
      "id": "aea01086",
      "metadata": {
        "id": "aea01086"
      },
      "outputs": [],
      "source": [
        "china_data"
      ]
    },
    {
      "cell_type": "code",
      "execution_count": null,
      "id": "082a86b2",
      "metadata": {
        "id": "082a86b2"
      },
      "outputs": [],
      "source": [
        "# dica use uma destas opções, descomente a correta\n",
        "dict.pop?\n",
        "#list.pop?"
      ]
    },
    {
      "cell_type": "code",
      "execution_count": null,
      "id": "b639de1b",
      "metadata": {
        "id": "b639de1b"
      },
      "outputs": [],
      "source": [
        "# seu código aqui\n",
        "china_data.pop('desemprego')\n",
        "china_data"
      ]
    },
    {
      "cell_type": "code",
      "execution_count": null,
      "id": "bd2d51b0",
      "metadata": {
        "id": "bd2d51b0"
      },
      "outputs": [],
      "source": [
        "# depois execute esta linha\n",
        "china_data['desemprego']= 4.051\n",
        "china_data"
      ]
    },
    {
      "cell_type": "markdown",
      "id": "53e80c95",
      "metadata": {
        "id": "53e80c95"
      },
      "source": [
        "[retorne ao texto](#exercicio7_call)"
      ]
    },
    {
      "cell_type": "markdown",
      "id": "b8d5670b",
      "metadata": {
        "lang": "pt",
        "id": "b8d5670b"
      },
      "source": [
        "<a id=\"exercicio8\"></a>\n",
        "\n",
        "# Exercício 8\n",
        "\n",
        "Explique o que acontece com o valor que você usou `pop`.\n",
        "\n",
        "Experimente chamar `pop` duas vezes."
      ]
    },
    {
      "cell_type": "code",
      "execution_count": null,
      "id": "041ab0a9",
      "metadata": {
        "id": "041ab0a9"
      },
      "outputs": [],
      "source": [
        "# seu código aqui"
      ]
    },
    {
      "cell_type": "markdown",
      "id": "5d177d19",
      "metadata": {
        "id": "5d177d19"
      },
      "source": [
        "[retorne ao texto](#exercicio8_call)"
      ]
    },
    {
      "cell_type": "markdown",
      "id": "383bf041",
      "metadata": {
        "lang": "pt",
        "id": "383bf041"
      },
      "source": [
        "<a id=\"exercicio9\"></a>\n",
        "\n",
        "# Exercício 9\n",
        "\n",
        "Tente criar um `set` com elementos repetidos (por exemplo, `{1, 2, 1, 2, 1, 2}`).\n",
        "\n",
        "O que acontece?\n",
        "\n",
        "Por que?"
      ]
    },
    {
      "cell_type": "code",
      "execution_count": null,
      "id": "d1b0a93a",
      "metadata": {
        "id": "d1b0a93a"
      },
      "outputs": [],
      "source": [
        "# seu código aqui\n",
        "w = {1, 2, 1, 2, 1, 2}\n",
        "w"
      ]
    },
    {
      "cell_type": "markdown",
      "id": "d4b71027",
      "metadata": {
        "id": "d4b71027"
      },
      "source": [
        "[retorne ao texto](#exercicio9_call)"
      ]
    },
    {
      "cell_type": "markdown",
      "id": "5e570679",
      "metadata": {
        "lang": "pt",
        "id": "5e570679"
      },
      "source": [
        "<a id=\"exercicio10\"></a>\n",
        "\n",
        "# Exercício 10\n",
        "\n",
        "Teste duas das operações descritas acima usando o conjunto original que criamos, `s`, e o `set` criado abaixo de `s2`."
      ]
    },
    {
      "cell_type": "code",
      "execution_count": null,
      "id": "47689406",
      "metadata": {
        "id": "47689406"
      },
      "outputs": [],
      "source": [
        "s2 = {\"hello\", \"world\"}\n",
        "s"
      ]
    },
    {
      "cell_type": "code",
      "execution_count": null,
      "id": "7fe18472",
      "metadata": {
        "id": "7fe18472"
      },
      "outputs": [],
      "source": [
        "# seu código aqui\n",
        "#print(s.union(s2))\n",
        "print(s)\n",
        "print(s.symmetric_difference(s2))"
      ]
    },
    {
      "cell_type": "markdown",
      "id": "de923e88",
      "metadata": {
        "id": "de923e88"
      },
      "source": [
        "[retorne ao texto](#exercicio10_call)"
      ]
    }
  ],
  "metadata": {
    "celltoolbar": "Slideshow",
    "kernelspec": {
      "display_name": "Python 3",
      "language": "python",
      "name": "python3"
    },
    "language_info": {
      "codemirror_mode": {
        "name": "ipython",
        "version": 3
      },
      "file_extension": ".py",
      "mimetype": "text/x-python",
      "name": "python",
      "nbconvert_exporter": "python",
      "pygments_lexer": "ipython3",
      "version": "3.6.13"
    },
    "nbTranslate": {
      "displayLangs": [
        "pt",
        "en"
      ],
      "hotkey": "alt-t",
      "langInMainMenu": true,
      "sourceLang": "en",
      "targetLang": "pt",
      "useGoogleTranslate": true
    },
    "colab": {
      "provenance": [],
      "include_colab_link": true
    }
  },
  "nbformat": 4,
  "nbformat_minor": 5
}