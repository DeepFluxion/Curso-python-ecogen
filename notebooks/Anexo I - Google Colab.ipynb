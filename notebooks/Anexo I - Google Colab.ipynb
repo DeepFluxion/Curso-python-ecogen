{
  "cells": [
    {
      "cell_type": "markdown",
      "metadata": {
        "id": "view-in-github",
        "colab_type": "text"
      },
      "source": [
        "<a href=\"https://colab.research.google.com/github/DeepFluxion/Curso-python-ecogen/blob/main/notebooks/Anexo%20I%20-%20Google%20Colab.ipynb\" target=\"_parent\"><img src=\"https://colab.research.google.com/assets/colab-badge.svg\" alt=\"Open In Colab\"/></a>"
      ]
    },
    {
      "cell_type": "markdown",
      "id": "0e39679c",
      "metadata": {
        "id": "0e39679c"
      },
      "source": [
        "# Introdução ao Google Colab"
      ]
    },
    {
      "cell_type": "markdown",
      "id": "8660b23c",
      "metadata": {
        "id": "8660b23c"
      },
      "source": [
        "O que é o Colab?\n",
        "O Colab, ou \"Colaboratory\", permite escrever e executar Python no navegador e conta com o seguinte:\n",
        "\n",
        "* Nenhuma configuração necessária\n",
        "* Acesso a GPUs sem custo financeiro\n",
        "* Compartilhamento fácil\n",
        "\n",
        "Assista ao vídeo [Introdução ao Colab](https://www.youtube.com/watch?v=inN8seMm7UI) para saber mais ou simplesmente comece a usá-lo abaixo!"
      ]
    },
    {
      "cell_type": "markdown",
      "id": "4be98772",
      "metadata": {
        "id": "4be98772"
      },
      "source": [
        "## Vamos começar\n",
        "\n",
        "Se você já acessou o Colab o que você está lendo não está em uma página da Web estática, mas sim um ambiente interativo chamado **notebook Colab** que permite escrever e executar código.\n",
        "\n",
        "Por exemplo, aqui está uma célula de código com um breve script Python que calcula um valor, armazena-o em uma variável e imprime o resultado:"
      ]
    },
    {
      "cell_type": "code",
      "execution_count": null,
      "id": "830f5402",
      "metadata": {
        "id": "830f5402",
        "outputId": "02a90123-5914-4bb2-f267-7a0c00e53fa0"
      },
      "outputs": [
        {
          "data": {
            "text/plain": [
              "86400"
            ]
          },
          "execution_count": 16,
          "metadata": {},
          "output_type": "execute_result"
        }
      ],
      "source": [
        "segundos_em_um_dia = 24 * 60 * 60\n",
        "segundos_em_um_dia"
      ]
    },
    {
      "cell_type": "markdown",
      "id": "0b0d2bf9",
      "metadata": {
        "id": "0b0d2bf9"
      },
      "source": [
        "Para executar o código na célula acima, clique nela e depois pressione o botão Play ▶️ à esquerda do código ou use o atalho do teclado **\"Command/Ctrl+Enter\"**.\n",
        "\n",
        "Para editar o código, basta clicar na célula e começar a editar.\n",
        "\n",
        "As variáveis definidas em uma célula podem ser usadas mais tarde em outras células:"
      ]
    },
    {
      "cell_type": "code",
      "execution_count": null,
      "id": "ecee1b65",
      "metadata": {
        "id": "ecee1b65",
        "outputId": "43b00677-c1c6-406d-e19c-53a8559682ae"
      },
      "outputs": [
        {
          "data": {
            "text/plain": [
              "604800"
            ]
          },
          "execution_count": 17,
          "metadata": {},
          "output_type": "execute_result"
        }
      ],
      "source": [
        "segundos_em_uma_semana = 7 * segundos_em_um_dia\n",
        "segundos_em_uma_semana"
      ]
    },
    {
      "cell_type": "markdown",
      "id": "b6d311f8",
      "metadata": {
        "id": "b6d311f8"
      },
      "source": [
        "Os notebooks do Colab permitem combinar código executável em Python e texto rich em um só documento, mas você pode inserir  imagens, elementos HTML, LaTeX, links e muito mais.\n",
        "\n",
        "Quando você cria seus próprios notebooks do Colab, eles são armazenados na sua conta do Google Drive. É possível compartilhar os notebooks do Colab facilmente com colegas de trabalho ou amigos e permitir que eles façam comentários ou até editem o documento."
      ]
    },
    {
      "cell_type": "markdown",
      "id": "8d43cb82",
      "metadata": {
        "id": "8d43cb82"
      },
      "source": [
        "Para saber mais, consulte a [Visão Geral do Colab](https://colab.research.google.com/notebooks/basic_features_overview.ipynb). Para criar um novo notebook do Colab, use o menu Arquivo acima ou acesse o seguinte: [criar um novo notebook do Colab](http://colab.research.google.com/#create=true).\n",
        "\n",
        "Os notebooks do Colab são notebooks do Jupyter hospedados no Colab. Para saber mais sobre o projeto Jupyter, acesse [jupyter.org](https://www.jupyter.org/)."
      ]
    },
    {
      "cell_type": "markdown",
      "id": "0bf5a45b",
      "metadata": {
        "lang": "pt",
        "id": "0bf5a45b"
      },
      "source": [
        "### Células\n",
        "Um notebook é uma lista de células. As células contêm texto explicativo ou código executável e sua saída. Clique em uma célula para selecioná-la."
      ]
    },
    {
      "cell_type": "markdown",
      "id": "a6c869ee",
      "metadata": {
        "lang": "pt",
        "id": "a6c869ee"
      },
      "source": [
        "### Células de código\n",
        "Abaixo está uma **célula de código**. Assim que o botão da barra de ferramentas indicar CONNECTED, clique na célula para selecioná-la e execute o conteúdo das seguintes formas:\n",
        "\n",
        "* Clique no **ícone Reproduzir** no canto esquerdo da célula;\n",
        "* Digite **Cmd/Ctrl+Enter** para executar a célula no local;\n",
        "* Digite **Shift+Enter** para executar a célula e mover o foco para a próxima célula (adicionando uma se não existir); ou\n",
        "* Digite **Alt+Enter** para executar a célula e insira uma nova célula de código imediatamente abaixo dela.\n",
        "\n",
        "Existem opções adicionais para executar algumas ou todas as células no menu **Ambiente de Execução**."
      ]
    },
    {
      "cell_type": "code",
      "execution_count": null,
      "id": "82e512dc",
      "metadata": {
        "id": "82e512dc",
        "outputId": "487bb303-3bee-45ac-a8f2-c4d7e4e4c923"
      },
      "outputs": [
        {
          "data": {
            "text/plain": [
              "10"
            ]
          },
          "execution_count": 18,
          "metadata": {},
          "output_type": "execute_result"
        }
      ],
      "source": [
        "a = 10\n",
        "a"
      ]
    },
    {
      "cell_type": "markdown",
      "id": "065a0629",
      "metadata": {
        "lang": "pt",
        "id": "065a0629"
      },
      "source": [
        "### Células de texto\n",
        "\n",
        "Esta é uma **célula de texto**. Você pode **clicar duas vezes** para editar esta célula. Células de texto usam sintaxe de remarcação (markdown). Para saber mais, consulte no [markdown\n",
        "guia](/notebooks/markdown_guide.ipynb) do Google Colab.\n",
        "\n",
        "Você também pode adicionar matemática a células de texto usando [LaTeX](http://www.latex-project.org/) a ser renderizado por [MathJax](https://www.mathjax.org). Basta colocar a declaração dentro de um par de simbolos **\\$**. Por example `$\\sqrt{3x-1}+(1+x)^2$` torna-se $\\sqrt{3x-1}+(1+x)^2.$"
      ]
    },
    {
      "cell_type": "markdown",
      "id": "e9cadea6",
      "metadata": {
        "lang": "pt",
        "id": "e9cadea6"
      },
      "source": [
        "# Trabalhando com python\n",
        "O Colaboratory é construído sobre o [Jupyter Notebook](https://jupyter.org/).\n",
        "\n",
        "Abaixo vamos criar uam célula para executar o seguinte código:\n",
        "\n",
        "```python\n",
        "import time\n",
        "print(\"Sleeping\")\n",
        "time.sleep(30) # sleep for a while; interrupt me!\n",
        "print(\"Done Sleeping\")\n",
        "```"
      ]
    },
    {
      "cell_type": "code",
      "execution_count": null,
      "id": "4688c01f",
      "metadata": {
        "lang": "en",
        "id": "4688c01f",
        "outputId": "6e4dfd66-a633-4cd6-8dc9-635bb8aa2298"
      },
      "outputs": [
        {
          "name": "stdout",
          "output_type": "stream",
          "text": [
            "Dormindo\n",
            "Acordar\n"
          ]
        }
      ],
      "source": [
        "import time\n",
        "print(\"Dormindo\")\n",
        "time.sleep(10) # durma um pouco; interrompa-me!\n",
        "print(\"Acordar\")"
      ]
    },
    {
      "cell_type": "markdown",
      "id": "ce0d07b9",
      "metadata": {
        "lang": "pt",
        "id": "ce0d07b9"
      },
      "source": [
        "Processos python longos podem ser interrompidos. Execute a célula a seguir e selecione\n",
        "> **Ambiente de Execução -> Interromper execução (tecla de atalho: Cmd/Ctrl-M I) para interromper a execução.**\n",
        "\n",
        "Você verá algo parecido com isto:\n",
        "```python\n",
        "---------------------------------------------------------------------------\n",
        "KeyboardInterrupt                         Traceback (most recent call last)\n",
        "<ipython-input-10-6bf601130493> in <module>\n",
        "      1 import time\n",
        "      2 print(\"Dormindo\")\n",
        "----> 3 time.sleep(30) # durma um pouco; interrompa-me!\n",
        "      4 print(\"Acordar\")\n",
        "KeyboardInterrupt:\n",
        "```"
      ]
    },
    {
      "cell_type": "code",
      "execution_count": null,
      "id": "b0e3d1d0",
      "metadata": {
        "lang": "en",
        "id": "b0e3d1d0",
        "outputId": "5752584a-f4e9-49cc-fe8b-c0809ff5b71c"
      },
      "outputs": [
        {
          "name": "stdout",
          "output_type": "stream",
          "text": [
            "Dormindo\n"
          ]
        },
        {
          "ename": "KeyboardInterrupt",
          "evalue": "",
          "output_type": "error",
          "traceback": [
            "\u001b[1;31m---------------------------------------------------------------------------\u001b[0m",
            "\u001b[1;31mKeyboardInterrupt\u001b[0m                         Traceback (most recent call last)",
            "\u001b[1;32m<ipython-input-20-6bf601130493>\u001b[0m in \u001b[0;36m<module>\u001b[1;34m\u001b[0m\n\u001b[0;32m      1\u001b[0m \u001b[1;32mimport\u001b[0m \u001b[0mtime\u001b[0m\u001b[1;33m\u001b[0m\u001b[1;33m\u001b[0m\u001b[0m\n\u001b[0;32m      2\u001b[0m \u001b[0mprint\u001b[0m\u001b[1;33m(\u001b[0m\u001b[1;34m\"Dormindo\"\u001b[0m\u001b[1;33m)\u001b[0m\u001b[1;33m\u001b[0m\u001b[1;33m\u001b[0m\u001b[0m\n\u001b[1;32m----> 3\u001b[1;33m \u001b[0mtime\u001b[0m\u001b[1;33m.\u001b[0m\u001b[0msleep\u001b[0m\u001b[1;33m(\u001b[0m\u001b[1;36m30\u001b[0m\u001b[1;33m)\u001b[0m \u001b[1;31m# durma um pouco; interrompa-me!\u001b[0m\u001b[1;33m\u001b[0m\u001b[1;33m\u001b[0m\u001b[0m\n\u001b[0m\u001b[0;32m      4\u001b[0m \u001b[0mprint\u001b[0m\u001b[1;33m(\u001b[0m\u001b[1;34m\"Acordar\"\u001b[0m\u001b[1;33m)\u001b[0m\u001b[1;33m\u001b[0m\u001b[1;33m\u001b[0m\u001b[0m\n",
            "\u001b[1;31mKeyboardInterrupt\u001b[0m: "
          ]
        }
      ],
      "source": [
        "import time\n",
        "print(\"Dormindo\")\n",
        "time.sleep(30) # durma um pouco; interrompa-me!\n",
        "print(\"Acordar\")"
      ]
    },
    {
      "cell_type": "markdown",
      "id": "563922f0",
      "metadata": {
        "lang": "en",
        "id": "563922f0"
      },
      "source": [
        "### Magics\n",
        "\n",
        "O Colaboratory compartilha a noção de **Magics de Jupyter**. Existem anotações abreviadas que alteram a forma como o texto de uma célula é executado. Para saber mais, consulte a página de [Magics de Jupyter](http://nbviewer.jupyter.org/github/ipython/ipython/blob/1.x/examples/notebooks/Cell%20Magics.ipynb)."
      ]
    },
    {
      "cell_type": "code",
      "execution_count": null,
      "id": "36bb457b",
      "metadata": {
        "id": "36bb457b",
        "outputId": "31575616-cb45-4bfb-800d-7e138e909aa8"
      },
      "outputs": [
        {
          "name": "stdout",
          "output_type": "stream",
          "text": [
            "Dormindo\n",
            "Acordar\n",
            "Wall time: 10 s\n"
          ]
        }
      ],
      "source": [
        "%%time\n",
        "import time\n",
        "print(\"Dormindo\")\n",
        "time.sleep(10) # durma um pouco; interrompa-me!\n",
        "print(\"Acordar\")"
      ]
    },
    {
      "cell_type": "code",
      "execution_count": null,
      "id": "9b1a4528",
      "metadata": {
        "id": "9b1a4528",
        "outputId": "f876cb52-95d2-477f-f73a-e1d115644ac6"
      },
      "outputs": [
        {
          "data": {
            "text/html": [
              "<marquee style='width: 30%; color: red;'><b>Ebah!</b></marquee>\n"
            ],
            "text/plain": [
              "<IPython.core.display.HTML object>"
            ]
          },
          "metadata": {},
          "output_type": "display_data"
        }
      ],
      "source": [
        "%%html\n",
        "<marquee style='width: 30%; color: red;'><b>Ebah!</b></marquee>"
      ]
    },
    {
      "cell_type": "code",
      "execution_count": null,
      "id": "8edbb217",
      "metadata": {
        "id": "8edbb217",
        "outputId": "00aaf3ee-40e7-4e67-da33-fc013b585e5f"
      },
      "outputs": [
        {
          "data": {
            "text/html": [
              "<svg xmlns=\"http://www.w3.org/2000/svg\" viewBox=\"0 0 450 400\" width=\"200\" height=\"200\">\n",
              "  <rect x=\"80\" y=\"60\" width=\"250\" height=\"250\" rx=\"20\" style=\"fill:red; stroke:black; fill-opacity:0.7\" />\n",
              "  <rect x=\"180\" y=\"110\" width=\"250\" height=\"250\" rx=\"40\" style=\"fill:blue; stroke:black; fill-opacity:0.5;\" />\n",
              "</svg>\n"
            ],
            "text/plain": [
              "<IPython.core.display.HTML object>"
            ]
          },
          "metadata": {},
          "output_type": "display_data"
        }
      ],
      "source": [
        "%%html\n",
        "<svg xmlns=\"http://www.w3.org/2000/svg\" viewBox=\"0 0 450 400\" width=\"200\" height=\"200\">\n",
        "  <rect x=\"80\" y=\"60\" width=\"250\" height=\"250\" rx=\"20\" style=\"fill:red; stroke:black; fill-opacity:0.7\" />\n",
        "  <rect x=\"180\" y=\"110\" width=\"250\" height=\"250\" rx=\"40\" style=\"fill:blue; stroke:black; fill-opacity:0.5;\" />\n",
        "</svg>"
      ]
    },
    {
      "cell_type": "code",
      "execution_count": null,
      "id": "5d9ace5f",
      "metadata": {
        "id": "5d9ace5f",
        "outputId": "1baf2c50-cfb8-4c69-a030-37f6ed167bc3"
      },
      "outputs": [
        {
          "data": {
            "text/html": [
              "\n",
              "<!DOCTYPE html>\n",
              "<html>\n",
              "<body>\n",
              "\n",
              "<iframe width=\"420\" height=\"345\" src=\"https://www.youtube.com/embed/tgbNymZ7vqY?autoplay=1&mute=0\">\n",
              "</iframe>\n",
              "\n",
              "</body>\n",
              "</html>\n"
            ],
            "text/plain": [
              "<IPython.core.display.HTML object>"
            ]
          },
          "metadata": {},
          "output_type": "display_data"
        }
      ],
      "source": [
        "%%html\n",
        "\n",
        "<!DOCTYPE html>\n",
        "<html>\n",
        "<body>\n",
        "\n",
        "<iframe width=\"420\" height=\"345\" src=\"https://www.youtube.com/embed/tgbNymZ7vqY?autoplay=1&mute=0\">\n",
        "</iframe>\n",
        "\n",
        "</body>\n",
        "</html>"
      ]
    },
    {
      "cell_type": "markdown",
      "id": "5036876a",
      "metadata": {
        "lang": "pt",
        "id": "5036876a"
      },
      "source": [
        "### Integração com o Google Drive\n",
        "\n",
        "O Colaboratory é integrado ao Google Drive. Ele permite que você compartilhe, comente e colabore no mesmo documento com várias pessoas:\n",
        "\n",
        "* O botão **COMPARTILHAR** (canto superior direito da barra de ferramentas) permite que você compartilhe o notebook e controle as permissões definidas nele.\n",
        "\n",
        "* **Arquivo->Fazer uma cópia** cria uma cópia do notebook no Drive.\n",
        "\n",
        "* **Arquivo->Salvar**salva o arquivo no Drive."
      ]
    },
    {
      "cell_type": "markdown",
      "id": "bbbd4c80",
      "metadata": {
        "id": "bbbd4c80"
      },
      "source": [
        "O Google Colab é uma ferrament excelente para aprender Python para Data Science. Continue explorando o [site](https://colab.research.google.com/notebooks/welcome.ipynb?hl=pt-BR) do Colab, ao longo das aulas vamos aprender novas funcionalidades"
      ]
    }
  ],
  "metadata": {
    "celltoolbar": "Slideshow",
    "kernelspec": {
      "display_name": "Python 3",
      "language": "python",
      "name": "python3"
    },
    "language_info": {
      "codemirror_mode": {
        "name": "ipython",
        "version": 3
      },
      "file_extension": ".py",
      "mimetype": "text/x-python",
      "name": "python",
      "nbconvert_exporter": "python",
      "pygments_lexer": "ipython3",
      "version": "3.6.13"
    },
    "nbTranslate": {
      "displayLangs": [
        "pt",
        "en"
      ],
      "hotkey": "alt-t",
      "langInMainMenu": true,
      "sourceLang": "en",
      "targetLang": "pt",
      "useGoogleTranslate": true
    },
    "colab": {
      "provenance": [],
      "include_colab_link": true
    }
  },
  "nbformat": 4,
  "nbformat_minor": 5
}